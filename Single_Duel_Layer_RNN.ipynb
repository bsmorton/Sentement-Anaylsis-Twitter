{
 "cells": [
  {
   "cell_type": "code",
   "execution_count": 1,
   "metadata": {},
   "outputs": [
    {
     "name": "stderr",
     "output_type": "stream",
     "text": [
      "Using TensorFlow backend.\n"
     ]
    },
    {
     "name": "stdout",
     "output_type": "stream",
     "text": [
      "Success\n"
     ]
    }
   ],
   "source": [
    "import io\n",
    "import numpy as np\n",
    "from sklearn.feature_extraction.text import CountVectorizer\n",
    "from sklearn.feature_extraction.text import TfidfTransformer\n",
    "from sklearn.linear_model import LogisticRegression \n",
    "from keras.utils import to_categorical\n",
    "from nltk.corpus import stopwords\n",
    "\n",
    "###########################################################################\n",
    "#generate training/test data\n",
    "########################################################################### \n",
    "positive_file1 = io.open(\"Happy_clean.txt\",'r',encoding=\"latin-1\")\n",
    "positive_file2 = io.open(\"Blessed_clean.txt\",'r',encoding=\"latin-1\")\n",
    "positive_file3 = io.open(\"Proud_clean.txt\",'r',encoding=\"latin-1\")\n",
    "\n",
    "negative_file1 = io.open(\"FML_clean.txt\",'r',encoding=\"latin-1\")\n",
    "negative_file2 = io.open(\"Sad_clean.txt\",'r',encoding=\"latin-1\")\n",
    "negative_file3 = io.open(\"Ugh_clean.txt\",'r',encoding=\"latin-1\")\n",
    "\n",
    "training_samples = 30000\n",
    "bragging_tweets = []\n",
    "bitching_tweets = []\n",
    "\n",
    "\n",
    "for line in positive_file1:\n",
    "    bragging_tweets.append(line.strip(\"\\n\"))\n",
    "for line in positive_file2:\n",
    "    bragging_tweets.append(line.strip(\"\\n\"))\n",
    "for line in positive_file3:\n",
    "    bragging_tweets.append(line.strip(\"\\n\"))\n",
    "for line in negative_file1:\n",
    "    bitching_tweets.append(line.strip(\"\\n\"))\n",
    "for line in negative_file2:\n",
    "    bitching_tweets.append(line.strip(\"\\n\"))\n",
    "for line in negative_file3:\n",
    "    bitching_tweets.append(line.strip(\"\\n\"))\n",
    "\n",
    "\n",
    "np.random.seed(42)\n",
    "bragging_tweets = np.array(bragging_tweets)\n",
    "bitching_tweets = np.array(bitching_tweets)\n",
    "\n",
    "np.random.shuffle(bragging_tweets)\n",
    "np.random.shuffle(bitching_tweets)\n",
    "\n",
    "\n",
    "data = []\n",
    "\n",
    "for i in range(150000):\n",
    "    data.append([bragging_tweets[i],0])\n",
    "    data.append([bitching_tweets[i],1])\n",
    "\n",
    "\n",
    "      \n",
    "\n",
    "\n",
    "np.random.shuffle(data)\n",
    "\n",
    "\n",
    "tweets_train = np.array(data[:250000])\n",
    "tweets_test = np.array(data[250000:])\n",
    "\n",
    "\n",
    "\n",
    "X_train = tweets_train[:,0]\n",
    "Y_train = tweets_train[:,1]\n",
    "X_test = tweets_test[:,0]\n",
    "Y_test = tweets_test[:,1]\n",
    "\n",
    "\n",
    "\n",
    "\n",
    "\n",
    "print(\"Success\")"
   ]
  },
  {
   "cell_type": "code",
   "execution_count": 2,
   "metadata": {},
   "outputs": [
    {
     "name": "stdout",
     "output_type": "stream",
     "text": [
      "Found 246173 unique tokens.\n"
     ]
    }
   ],
   "source": [
    "from keras.preprocessing.text import Tokenizer\n",
    "from keras.preprocessing.sequence import pad_sequences\n",
    "import numpy as np\n",
    "\n",
    "maxlen = 50\n",
    "training_samples = 200000\n",
    "max_words = 10000\n",
    "tokenizer = Tokenizer(num_words = max_words)\n",
    "tokenizer.fit_on_texts(X_train)\n",
    "sequences = tokenizer.texts_to_sequences(X_train)\n",
    "word_index = tokenizer.word_index\n",
    "print ('Found %s unique tokens.' % len(word_index))\n"
   ]
  },
  {
   "cell_type": "code",
   "execution_count": 3,
   "metadata": {},
   "outputs": [
    {
     "name": "stdout",
     "output_type": "stream",
     "text": [
      "shape of the data tensor: (250000, 50)\n",
      "shape of the label tensor:  (250000,)\n"
     ]
    }
   ],
   "source": [
    "data = pad_sequences(sequences, maxlen = maxlen)\n",
    "labels = np.asarray(Y_train)\n",
    "print (\"shape of the data tensor:\", data.shape)\n",
    "print (\"shape of the label tensor: \", labels.shape)\n"
   ]
  },
  {
   "cell_type": "code",
   "execution_count": 5,
   "metadata": {},
   "outputs": [
    {
     "name": "stdout",
     "output_type": "stream",
     "text": [
      "Found 1193514 word vectors.\n"
     ]
    }
   ],
   "source": [
    "# splits data into a training set and a validation set\n",
    "# indices = np.arange(data.shape[0])\n",
    "# np.random.shuffle(indices)\n",
    "# data = data[indices]\n",
    "# labels = labels[indices]\n",
    "import os\n",
    "\n",
    "x_train = data[:]\n",
    "y_train = labels[:]\n",
    "# x_val = data[training_samples:]\n",
    "# y_val = labels[training_samples:]\n",
    "\n",
    "glove_dir = 'glove.twitter.27B'\n",
    "embeddings_index = {}\n",
    "#your maxlen and you .txt files must correspond\n",
    "f = open(os.path.join(glove_dir, 'glove.twitter.27B.50d.txt'), encoding=\"utf8\")\n",
    "for line in f:\n",
    "    values = line.split()\n",
    "    word = values[0]\n",
    "    coefs=np.asarray(values[1:], dtype='float32')\n",
    "    embeddings_index[word] = coefs\n",
    "f.close()\n",
    "print('Found %s word vectors.'%len(embeddings_index))\n"
   ]
  },
  {
   "cell_type": "code",
   "execution_count": 6,
   "metadata": {
    "collapsed": true
   },
   "outputs": [],
   "source": [
    "\n",
    "embedding_dim = maxlen\n",
    "embedding_matrix = np.zeros((max_words, embedding_dim))\n",
    "for word, i in word_index.items():\n",
    "    if (i < max_words):\n",
    "        embedding_vector= embeddings_index.get(word)\n",
    "        if (embedding_vector is not None):\n",
    "            embedding_matrix[i] = embedding_vector"
   ]
  },
  {
   "cell_type": "code",
   "execution_count": 7,
   "metadata": {},
   "outputs": [
    {
     "name": "stdout",
     "output_type": "stream",
     "text": [
      "_________________________________________________________________\n",
      "Layer (type)                 Output Shape              Param #   \n",
      "=================================================================\n",
      "embedding_1 (Embedding)      (None, 50, 50)            500000    \n",
      "_________________________________________________________________\n",
      "simple_rnn_1 (SimpleRNN)     (None, 32)                2656      \n",
      "_________________________________________________________________\n",
      "dense_1 (Dense)              (None, 1)                 33        \n",
      "=================================================================\n",
      "Total params: 502,689\n",
      "Trainable params: 502,689\n",
      "Non-trainable params: 0\n",
      "_________________________________________________________________\n"
     ]
    }
   ],
   "source": [
    "from keras.models import Sequential\n",
    "from keras.layers import Embedding, Flatten, Dense, SimpleRNN\n",
    "\n",
    "model = Sequential()\n",
    "model.add(Embedding(max_words, embedding_dim, input_length = maxlen))\n",
    "\n",
    "model.add(SimpleRNN(32,activation = 'tanh'))\n",
    "model.add(Dense(1, activation = 'sigmoid'))\n",
    "\n",
    "model.summary()"
   ]
  },
  {
   "cell_type": "code",
   "execution_count": 9,
   "metadata": {},
   "outputs": [
    {
     "name": "stdout",
     "output_type": "stream",
     "text": [
      "Train on 225000 samples, validate on 25000 samples\n",
      "Epoch 1/4\n",
      "225000/225000 [==============================] - 293s 1ms/step - loss: 0.4987 - acc: 0.7518 - val_loss: 0.5034 - val_acc: 0.7387\n",
      "Epoch 2/4\n",
      "225000/225000 [==============================] - 293s 1ms/step - loss: 0.4007 - acc: 0.8197 - val_loss: 0.3916 - val_acc: 0.8282\n",
      "Epoch 3/4\n",
      "225000/225000 [==============================] - 294s 1ms/step - loss: 0.3773 - acc: 0.8332 - val_loss: 0.4308 - val_acc: 0.7928\n",
      "Epoch 4/4\n",
      "225000/225000 [==============================] - 293s 1ms/step - loss: 0.3646 - acc: 0.8410 - val_loss: 0.3729 - val_acc: 0.8372\n"
     ]
    }
   ],
   "source": [
    "import keras.optimizers\n",
    "sgd = keras.optimizers.SGD(lr=0.0001*400)\n",
    "model.compile(optimizer = sgd,\n",
    "             loss = 'binary_crossentropy',\n",
    "             metrics = ['acc'])\n",
    "\n",
    "history = model.fit(x_train, y_train, epochs = 4, batch_size= 32, validation_split = 0.10 )\n",
    "model.save_weights('pre-trained_glove_twitter_model.h5')"
   ]
  },
  {
   "cell_type": "code",
   "execution_count": 10,
   "metadata": {},
   "outputs": [
    {
     "data": {
      "image/png": "[encoded data removed]",
      "text/plain": [
       "<matplotlib.figure.Figure at 0x1a43458b70>"
      ]
     },
     "metadata": {},
     "output_type": "display_data"
    },
    {
     "data": {
      "image/png": "[encoded data removed]",
      "text/plain": [
       "<matplotlib.figure.Figure at 0x1c633dab70>"
      ]
     },
     "metadata": {},
     "output_type": "display_data"
    }
   ],
   "source": [
    "import matplotlib.pyplot as plt\n",
    "acc = history.history['acc']\n",
    "val_acc = history.history['val_acc']\n",
    "loss = history.history['loss']\n",
    "val_loss = history.history['val_loss']\n",
    "\n",
    "epochs = range(1, len(acc) +1)\n",
    "\n",
    "plt.plot(epochs, acc, 'bo', label = 'Training acc')\n",
    "plt.plot(epochs, val_acc, 'b', label = 'Validation acc')\n",
    "plt.title('Training and validation accuracy')\n",
    "plt.legend()\n",
    "\n",
    "plt.figure()\n",
    "plt.plot(epochs, loss, 'bo', label = 'Training loss')\n",
    "plt.plot(epochs, val_loss, 'b', label = 'Validation loss')\n",
    "plt.title('Training and validation loss')\n",
    "plt.legend()\n",
    "\n",
    "plt.show()"
   ]
  },
  {
   "cell_type": "code",
   "execution_count": 11,
   "metadata": {},
   "outputs": [
    {
     "name": "stdout",
     "output_type": "stream",
     "text": [
      "50000/50000 [==============================] - 16s 311us/step\n"
     ]
    },
    {
     "data": {
      "text/plain": [
       "[0.37442105213642118, 0.83660000000000001]"
      ]
     },
     "execution_count": 11,
     "metadata": {},
     "output_type": "execute_result"
    }
   ],
   "source": [
    "## These will be results on the test\n",
    "sequences = tokenizer.texts_to_sequences(X_test)\n",
    "x_test = pad_sequences(sequences, maxlen = maxlen)\n",
    "y_test = np.asarray(Y_test)\n",
    "model.load_weights('pre-trained_glove_twitter_model.h5')\n",
    "\n",
    "from keras.utils import plot_model\n",
    "plot_model(model, to_file='model.png')\n",
    "model.evaluate(x_test, y_test)"
   ]
  },
  {
   "cell_type": "code",
   "execution_count": 15,
   "metadata": {
    "collapsed": true
   },
   "outputs": [],
   "source": [
    "def predict(pred):\n",
    "    predictions = []\n",
    "    for item in pred:\n",
    "        if item[0]<=0.5: \n",
    "            predictions.append(\"Bragging\")\n",
    "        else:\n",
    "            predictions.append(\"Bitching\")\n",
    "    return predictions"
   ]
  },
  {
   "cell_type": "code",
   "execution_count": 16,
   "metadata": {},
   "outputs": [
    {
     "name": "stdout",
     "output_type": "stream",
     "text": [
      "Predicted Class: Bitching Actual Class: 1\n",
      "Redrafting sometimes means you have to turn entire pages of description into dialogue in order to make it flow better #timeconsuming\n",
      "Predicted Class: Bragging Actual Class: 0\n",
      "Awesome sculpture that will make you .Magical hands at work to make #art face and figures from plasters breathing real life into them.\n",
      "Predicted Class: Bragging Actual Class: 0\n",
      "#Teens #Porn #Filth Enter Free Chat with #Blondesexdolls -> lesbians-girls/blondesexdolls … #FreeWebChat\n",
      "Predicted Class: Bitching Actual Class: 1\n",
      "Spent two hours stuck in Deira traffic while looking for envelopes, copied data onto 50 USBs & now facilitating 2 photo-shoots at work.\n",
      "Predicted Class: Bragging Actual Class: 0\n",
      "Everything's Working Out Well Right Now. #LovingLife\n",
      "Predicted Class: Bitching Actual Class: 1\n",
      "Greaaat!!! 3rd day of summer and I've got the flu!!!\n",
      "Predicted Class: Bragging Actual Class: 0\n",
      "Let it snow... Let it snow... Let it snow... #snow #villa83 #doha #qatar #Christmas #NewYear\n",
      "Predicted Class: Bragging Actual Class: 0\n",
      "No Caption ^^ #xmas #blackandwhite\n",
      "Predicted Class: Bragging Actual Class: 0\n",
      "Day off #btp #nerd #memoirsofageisha\n",
      "Predicted Class: Bragging Actual Class: 0\n",
      "#new#year#welcome#2015\n",
      "Predicted Class: Bragging Actual Class: 0\n",
      "Such a good night last night with the work lot\n",
      "Predicted Class: Bitching Actual Class: 1\n",
      "I want to find a husband, Alex-\" you did, just not yours!\"\n",
      "Predicted Class: Bitching Actual Class: 1\n",
      "A Root Canal???!!!!\n",
      "Predicted Class: Bitching Actual Class: 1\n",
      "And I still haven't done my last final presentation that's due on Wednesday.\n",
      "Predicted Class: Bragging Actual Class: 0\n",
      "Can't beat a glass of dry white with cheese and biscuits yummy\n",
      "Predicted Class: Bragging Actual Class: 0\n",
      "NeW yE@R!!!\n",
      "Predicted Class: Bragging Actual Class: 0\n",
      "Wouldnt change anything #gaytweet hahah\n",
      "Predicted Class: Bitching Actual Class: 1\n",
      "What the actual fuck. Need to get my shit together\n",
      "Predicted Class: Bitching Actual Class: 0\n",
      "YES the french guys in high heels are through GET IN!\n",
      "Predicted Class: Bitching Actual Class: 1\n",
      "Hate today, left my girls\n",
      "Predicted Class: Bragging Actual Class: 0\n",
      "Happy saturday #Saturday #bestoftheday #clouds #cool #cat #followme #food #friends #fun …\n",
      "Predicted Class: Bitching Actual Class: 1\n",
      "Gotta get up early\n",
      "Predicted Class: Bragging Actual Class: 0\n",
      "Okay, okay.. Done watching 2ne1's english songs compilation. #2ne1 #BlackJack #Proud #Kpop …\n",
      "Predicted Class: Bitching Actual Class: 1\n",
      "Ughhhh #why ?!??!!? ... when U can't even find the silver linings anymore ...\n",
      "Predicted Class: Bitching Actual Class: 1\n",
      "Can't remember the last time I had a fever now I have a fever and such a bad soar throat #sickdays\n",
      "Predicted Class: Bitching Actual Class: 0\n",
      "Fuck me! There I was thinking an evening of cricket was on and we've bowled them out & got the runs by quarter past 5 #gutted #EngvSL\n",
      "Predicted Class: Bragging Actual Class: 0\n",
      "share lng po.. this is the power of #ROYALE #another satisfied customer.. sa result... #fitshape ... fb.me/4AcAYkDQF\n",
      "Predicted Class: Bitching Actual Class: 1\n",
      "When you didn't do shit wrong yet she's #mad at you. #Wtf #Smh\n",
      "Predicted Class: Bitching Actual Class: 1\n",
      "The day you have left your headphones home, you will remember to miss them most.\n",
      "Predicted Class: Bragging Actual Class: 0\n",
      "Had an awesome day today! ^.^\n",
      "Predicted Class: Bragging Actual Class: 0\n",
      "31.12.2014 last day in 2014 Melbourne #Melbourne #happynewyear #fun #holiday #follow4follow …\n",
      "Predicted Class: Bitching Actual Class: 1\n",
      "Would be nice if I wasn't on back order for winter tires\n",
      "Predicted Class: Bragging Actual Class: 0\n",
      "jd_mendozab : Partytime #drinks #músic #nomore #miami #instapic #instavideo #instagram #superhappy … … atus/734243726814412801 … )\n",
      "Predicted Class: Bragging Actual Class: 0\n",
      "Treating my customers with something... new! #magicwand #harrypotter\n",
      "Predicted Class: Bitching Actual Class: 1\n",
      "@joannabenavides im at 12 hour mark at work with no signs of getting off\n",
      "Predicted Class: Bitching Actual Class: 1\n",
      "I hate Monday morning traffic! Just under 2 hours to get to work now for a 10 hour shift.. then another 2 hour drive home!\n",
      "Predicted Class: Bitching Actual Class: 1\n",
      "#lonelynights suck! #singlelife\n",
      "Predicted Class: Bitching Actual Class: 0\n",
      "This past semester has been the busiest I've ever had, and I pulled through it with the best final grades I've ever gotten\n",
      "Predicted Class: Bitching Actual Class: 1\n",
      "Well today sucks.\n",
      "Predicted Class: Bragging Actual Class: 1\n",
      "There are no places to get good, organic mistletoes in Kelowna anymore! #VEGAN #organic #mistletoes #ThisIsWhyIDontBelieveInSanta ,MOM\n",
      "Predicted Class: Bitching Actual Class: 1\n",
      "Managed to lock myself inside of my house #Monday\n",
      "Predicted Class: Bragging Actual Class: 0\n",
      "The annual brilliant, crazy Christmas celebration with my family today including 13 grand kids doing home style nativity play :-)\n",
      "Predicted Class: Bragging Actual Class: 0\n",
      "#new #year #bestfriend #love #2014 love you guys ! :)\n",
      "Predicted Class: Bitching Actual Class: 1\n",
      "Sprained my ankle played on it outcome of that it hurts like a snitch!\n",
      "Predicted Class: Bragging Actual Class: 0\n",
      "Snapshot! :D #girls #fun #playground #braziliangirl #fashion #instafashion #smile\n",
      "Predicted Class: Bragging Actual Class: 0\n",
      "• f o c u s • // . . . #girl #love #smile #model #beach #photooftheday #photo …\n",
      "Predicted Class: Bragging Actual Class: 0\n",
      "Sunday #blackandwhite #selfie #sunshine #sunbath #snapshot #snapchat #vibrant #smile …\n",
      "Predicted Class: Bragging Actual Class: 1\n",
      "LMFAO. The best bit about that is I DO ACTUALLY LOOK LIKE HIM WITH MY BLUE HAIR lol\n",
      "Predicted Class: Bragging Actual Class: 0\n",
      "#hot #Teens #Fuck Enter Free Chat with #Msobsession -> cam-girls/msobsession … #AfghanChat\n",
      "Predicted Class: Bragging Actual Class: 1\n",
      "Bahasa Kebangsaan, a subject where you learn things that you don't even touch in high school.\n"
     ]
    }
   ],
   "source": [
    "\n",
    "pred=model.predict(x_test)\n",
    "#print(predictions)\n",
    "#print(pred)\n",
    "p=predict(pred)\n",
    "#print(p)\n",
    "for i in range(50):\n",
    "    print(\"Predicted Class: \"+str(p[i])+\" Actual Class: \"+str(Y_test[i])+\"\\n\"+str(X_test[i]))"
   ]
  },
  {
   "cell_type": "code",
   "execution_count": 12,
   "metadata": {},
   "outputs": [
    {
     "data": {
      "image/svg+xml": [
       "<svg height=\"264pt\" viewBox=\"0.00 0.00 205.58 264.00\" width=\"206pt\" xmlns=\"http://www.w3.org/2000/svg\" xmlns:xlink=\"http://www.w3.org/1999/xlink\">\n",
       "<g class=\"graph\" id=\"graph0\" transform=\"scale(1 1) rotate(0) translate(4 260)\">\n",
       "<title>G</title>\n",
       "<polygon fill=\"#ffffff\" points=\"-4,4 -4,-260 201.5758,-260 201.5758,4 -4,4\" stroke=\"transparent\"/>\n",
       "<!-- 112774641704 -->\n",
       "<g class=\"node\" id=\"node1\">\n",
       "<title>112774641704</title>\n",
       "<polygon fill=\"none\" points=\"0,-219.5 0,-255.5 197.5758,-255.5 197.5758,-219.5 0,-219.5\" stroke=\"#000000\"/>\n",
       "<text fill=\"#000000\" font-family=\"Times,serif\" font-size=\"14.00\" text-anchor=\"middle\" x=\"98.7879\" y=\"-233.3\">embedding_1_input: InputLayer</text>\n",
       "</g>\n",
       "<!-- 111954732200 -->\n",
       "<g class=\"node\" id=\"node2\">\n",
       "<title>111954732200</title>\n",
       "<polygon fill=\"none\" points=\"16.7132,-146.5 16.7132,-182.5 180.8626,-182.5 180.8626,-146.5 16.7132,-146.5\" stroke=\"#000000\"/>\n",
       "<text fill=\"#000000\" font-family=\"Times,serif\" font-size=\"14.00\" text-anchor=\"middle\" x=\"98.7879\" y=\"-160.3\">embedding_1: Embedding</text>\n",
       "</g>\n",
       "<!-- 112774641704&#45;&gt;111954732200 -->\n",
       "<g class=\"edge\" id=\"edge1\">\n",
       "<title>112774641704-&gt;111954732200</title>\n",
       "<path d=\"M98.7879,-219.4551C98.7879,-211.3828 98.7879,-201.6764 98.7879,-192.6817\" fill=\"none\" stroke=\"#000000\"/>\n",
       "<polygon fill=\"#000000\" points=\"102.288,-192.5903 98.7879,-182.5904 95.288,-192.5904 102.288,-192.5903\" stroke=\"#000000\"/>\n",
       "</g>\n",
       "<!-- 112774641984 -->\n",
       "<g class=\"node\" id=\"node3\">\n",
       "<title>112774641984</title>\n",
       "<polygon fill=\"none\" points=\"13.9874,-73.5 13.9874,-109.5 183.5884,-109.5 183.5884,-73.5 13.9874,-73.5\" stroke=\"#000000\"/>\n",
       "<text fill=\"#000000\" font-family=\"Times,serif\" font-size=\"14.00\" text-anchor=\"middle\" x=\"98.7879\" y=\"-87.3\">simple_rnn_1: SimpleRNN</text>\n",
       "</g>\n",
       "<!-- 111954732200&#45;&gt;112774641984 -->\n",
       "<g class=\"edge\" id=\"edge2\">\n",
       "<title>111954732200-&gt;112774641984</title>\n",
       "<path d=\"M98.7879,-146.4551C98.7879,-138.3828 98.7879,-128.6764 98.7879,-119.6817\" fill=\"none\" stroke=\"#000000\"/>\n",
       "<polygon fill=\"#000000\" points=\"102.288,-119.5903 98.7879,-109.5904 95.288,-119.5904 102.288,-119.5903\" stroke=\"#000000\"/>\n",
       "</g>\n",
       "<!-- 112774940544 -->\n",
       "<g class=\"node\" id=\"node4\">\n",
       "<title>112774940544</title>\n",
       "<polygon fill=\"none\" points=\"46.6655,-.5 46.6655,-36.5 150.9103,-36.5 150.9103,-.5 46.6655,-.5\" stroke=\"#000000\"/>\n",
       "<text fill=\"#000000\" font-family=\"Times,serif\" font-size=\"14.00\" text-anchor=\"middle\" x=\"98.7879\" y=\"-14.3\">dense_1: Dense</text>\n",
       "</g>\n",
       "<!-- 112774641984&#45;&gt;112774940544 -->\n",
       "<g class=\"edge\" id=\"edge3\">\n",
       "<title>112774641984-&gt;112774940544</title>\n",
       "<path d=\"M98.7879,-73.4551C98.7879,-65.3828 98.7879,-55.6764 98.7879,-46.6817\" fill=\"none\" stroke=\"#000000\"/>\n",
       "<polygon fill=\"#000000\" points=\"102.288,-46.5903 98.7879,-36.5904 95.288,-46.5904 102.288,-46.5903\" stroke=\"#000000\"/>\n",
       "</g>\n",
       "</g>\n",
       "</svg>"
      ],
      "text/plain": [
       "<IPython.core.display.SVG object>"
      ]
     },
     "execution_count": 12,
     "metadata": {},
     "output_type": "execute_result"
    }
   ],
   "source": [
    "from IPython.display import SVG\n",
    "from keras.utils.vis_utils import model_to_dot\n",
    "\n",
    "SVG(model_to_dot(model).create(prog='dot', format='svg'))"
   ]
  },
  {
   "cell_type": "code",
   "execution_count": null,
   "metadata": {
    "collapsed": true
   },
   "outputs": [],
   "source": []
  },
  {
   "cell_type": "code",
   "execution_count": null,
   "metadata": {
    "collapsed": true
   },
   "outputs": [],
   "source": []
  }
 ],
 "metadata": {
  "kernelspec": {
   "display_name": "Python 3",
   "language": "python",
   "name": "python3"
  },
  "language_info": {
   "codemirror_mode": {
    "name": "ipython",
    "version": 3
   },
   "file_extension": ".py",
   "mimetype": "text/x-python",
   "name": "python",
   "nbconvert_exporter": "python",
   "pygments_lexer": "ipython3",
   "version": "3.6.3"
  }
 },
 "nbformat": 4,
 "nbformat_minor": 2
}
