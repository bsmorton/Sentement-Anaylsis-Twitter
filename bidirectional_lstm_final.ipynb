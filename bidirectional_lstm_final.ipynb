{
 "cells": [
  {
   "cell_type": "code",
   "execution_count": 5,
   "metadata": {},
   "outputs": [
    {
     "name": "stdout",
     "output_type": "stream",
     "text": [
      "SUCCESS\n",
      "(1100000,)\n"
     ]
    }
   ],
   "source": [
    "import io\n",
    "import numpy as np\n",
    "from keras.models import Sequential\n",
    "from keras.layers import Dense, Input, TimeDistributed, Flatten, Dropout, Conv1D, MaxPooling1D\n",
    "from keras.layers import LSTM, SimpleRNN, Bidirectional\n",
    "from keras.layers.embeddings import Embedding\n",
    "from keras.preprocessing import sequence\n",
    "from keras.utils import to_categorical\n",
    "from sklearn.feature_extraction.text import CountVectorizer\n",
    "from nltk.corpus import stopwords\n",
    "from keras.preprocessing.text import Tokenizer\n",
    "from nltk.stem.porter import *\n",
    "\n",
    "stemmer = PorterStemmer()\n",
    "\n",
    "np.random.seed(42)\n",
    "\n",
    "###########################################################################\n",
    "#generate training/test data\n",
    "########################################################################### \n",
    "\n",
    "positive_file1 = io.open(\"Happy_clean.txt\",'r',encoding=\"latin-1\")\n",
    "positive_file2 = io.open(\"Blessed_clean.txt\",'r',encoding=\"latin-1\")\n",
    "positive_file3 = io.open(\"Proud_clean.txt\",'r',encoding=\"latin-1\")\n",
    "\n",
    "negative_file1 = io.open(\"FML_clean.txt\",'r',encoding=\"latin-1\")\n",
    "negative_file2 = io.open(\"Sad_clean.txt\",'r',encoding=\"latin-1\")\n",
    "negative_file3 = io.open(\"Ugh_clean.txt\",'r',encoding=\"latin-1\")\n",
    "\n",
    "\n",
    "positive_tweets = []\n",
    "\n",
    "negative_tweets = []\n",
    "\n",
    "\n",
    "\n",
    "\n",
    "\n",
    "for _ in range(230000):\n",
    "    positive_tweets.append([positive_file1.readline().strip(\"\\n\"),0])\n",
    "    positive_tweets.append([positive_file2.readline().strip(\"\\n\"),0])\n",
    "    positive_tweets.append([positive_file3.readline().strip(\"\\n\"),0])\n",
    "    \n",
    "    negative_tweets.append([negative_file1.readline().strip(\"\\n\"),1])\n",
    "    negative_tweets.append([negative_file2.readline().strip(\"\\n\"),1])\n",
    "    negative_tweets.append([negative_file3.readline().strip(\"\\n\"),1])\n",
    "    \n",
    "tweets = positive_tweets+negative_tweets\n",
    "np.random.shuffle(tweets)\n",
    "\n",
    "\n",
    "tweets_train = np.array(tweets[:1100000])\n",
    "tweets_test = np.array(tweets[1100000:])\n",
    "\n",
    "X_train = tweets_train[:,0]\n",
    "Y_train = to_categorical(np.array([[int(i)] for i in tweets_train[:,1]],dtype=np.int))\n",
    "X_test = tweets_test[:,0]\n",
    "Y_test = to_categorical(np.array([[int(i)] for i in tweets_test[:,1]],dtype=np.int))\n",
    "\n",
    "\n",
    "\n",
    "\n",
    "\n",
    "print(\"SUCCESS\")\n",
    "print(X_train.shape)"
   ]
  },
  {
   "cell_type": "code",
   "execution_count": 6,
   "metadata": {},
   "outputs": [
    {
     "name": "stdout",
     "output_type": "stream",
     "text": [
      "Found 789660 unique tokens.\n"
     ]
    }
   ],
   "source": [
    "top_words = 750000\n",
    "max_tweet_length = 50\n",
    "\n",
    "tokenizer = Tokenizer(num_words = top_words)\n",
    "tokenizer.fit_on_texts(X_train)\n",
    "sequences = tokenizer.texts_to_sequences(X_train)\n",
    "word_index = tokenizer.word_index\n",
    "\n",
    "\n",
    "X_train = sequence.pad_sequences(sequences, maxlen=max_tweet_length)\n",
    "Y_train = np.asarray(Y_train)\n",
    "\n",
    "tokenizer.fit_on_texts(X_test)\n",
    "sequences = tokenizer.texts_to_sequences(X_test)\n",
    "\n",
    "\n",
    "X_test = sequence.pad_sequences(sequences, maxlen=max_tweet_length)\n",
    "Y_test = np.asarray(Y_test)\n",
    "\n",
    "\n",
    "print ('Found %s unique tokens.' % len(word_index))\n",
    "\n",
    "\n"
   ]
  },
  {
   "cell_type": "code",
   "execution_count": 7,
   "metadata": {},
   "outputs": [
    {
     "name": "stdout",
     "output_type": "stream",
     "text": [
      "_________________________________________________________________\n",
      "Layer (type)                 Output Shape              Param #   \n",
      "=================================================================\n",
      "embedding_1 (Embedding)      (None, 50, 50)            37500000  \n",
      "_________________________________________________________________\n",
      "dropout_1 (Dropout)          (None, 50, 50)            0         \n",
      "_________________________________________________________________\n",
      "dense_1 (Dense)              (None, 50, 300)           15300     \n",
      "_________________________________________________________________\n",
      "dropout_2 (Dropout)          (None, 50, 300)           0         \n",
      "_________________________________________________________________\n",
      "dense_2 (Dense)              (None, 50, 300)           90300     \n",
      "_________________________________________________________________\n",
      "bidirectional_1 (Bidirection (None, 50, 600)           1442400   \n",
      "_________________________________________________________________\n",
      "time_distributed_1 (TimeDist (None, 50, 1)             601       \n",
      "_________________________________________________________________\n",
      "flatten_1 (Flatten)          (None, 50)                0         \n",
      "_________________________________________________________________\n",
      "dense_4 (Dense)              (None, 2)                 102       \n",
      "=================================================================\n",
      "Total params: 39,048,703\n",
      "Trainable params: 39,048,703\n",
      "Non-trainable params: 0\n",
      "_________________________________________________________________\n",
      "None\n"
     ]
    }
   ],
   "source": [
    "import keras.optimizers\n",
    "\n",
    "\n",
    "embedding_vector_length = 50\n",
    "model = Sequential()\n",
    "model.add(Embedding(top_words, embedding_vector_length, input_length=max_tweet_length))\n",
    "model.add(Dropout(0.5))\n",
    "model.add(Dense(300,activation='softmax'))\n",
    "model.add(Dropout(0.5))\n",
    "model.add(Dense(300,activation='softmax'))\n",
    "model.add(Bidirectional(LSTM(300,return_sequences=True,recurrent_dropout=0.5,dropout=0.5)))\n",
    "model.add(TimeDistributed(Dense(1)))\n",
    "model.add(Flatten())\n",
    "model.add(Dense(2, activation='softmax'))\n",
    "adam = keras.optimizers.Adam(lr=0.001)\n",
    "model.compile(optimizer=adam,loss='categorical_crossentropy', metrics=['accuracy'])\n",
    "print(model.summary())\n",
    "# history = model.fit(X_train, Y_train, nb_epoch=4, batch_size=32, validation_split=0.1)\n",
    "# model.save_weights('bidirectional_LSTM_final.h5')\n",
    "\n"
   ]
  },
  {
   "cell_type": "code",
   "execution_count": 4,
   "metadata": {},
   "outputs": [
    {
     "data": {
      "image/png": "[encoded data removed]",
      "text/plain": [
       "<matplotlib.figure.Figure at 0x27bae295c18>"
      ]
     },
     "metadata": {},
     "output_type": "display_data"
    },
    {
     "data": {
      "image/png": "[encoded data removed]",
      "text/plain": [
       "<matplotlib.figure.Figure at 0x27c30fe8278>"
      ]
     },
     "metadata": {},
     "output_type": "display_data"
    }
   ],
   "source": [
    "import matplotlib.pyplot as plt\n",
    "acc = history.history['acc']\n",
    "val_acc = history.history['val_acc']\n",
    "loss = history.history['loss']\n",
    "val_loss = history.history['val_loss']\n",
    "\n",
    "epochs = range(1, len(acc) +1)\n",
    "\n",
    "plt.plot(epochs, acc, 'bo', label = 'Training acc')\n",
    "plt.plot(epochs, val_acc, 'b', label = 'Validation acc')\n",
    "plt.title('Training and validation accuracy')\n",
    "plt.legend()\n",
    "\n",
    "plt.figure()\n",
    "plt.plot(epochs, loss, 'bo', label = 'Training loss')\n",
    "plt.plot(epochs, val_loss, 'b', label = 'Validation loss')\n",
    "plt.title('Training and validation loss')\n",
    "plt.legend()\n",
    "\n",
    "plt.show()"
   ]
  },
  {
   "cell_type": "code",
   "execution_count": 10,
   "metadata": {},
   "outputs": [],
   "source": [
    "\n",
    "model.load_weights('bidirectional_LSTM_final.h5')\n",
    "from keras.utils import plot_model\n",
    "plot_model(model, to_file='model.png')\n",
    "# print(\"Classification Error on Test Set: \",model.evaluate(X_test,Y_test,verbose=0))"
   ]
  },
  {
   "cell_type": "code",
   "execution_count": 6,
   "metadata": {},
   "outputs": [
    {
     "name": "stdout",
     "output_type": "stream",
     "text": [
      "Fuck you \n",
      " [0.17569716 0.82430285]\n",
      "I love you \n",
      " [0.8687122 0.1312878]\n",
      "I hate homework \n",
      " [0.80361545 0.19638455]\n",
      "I like homework \n",
      " [0.47045943 0.5295406 ]\n",
      "Life sucks \n",
      " [0.49002728 0.5099727 ]\n",
      "Life is good \n",
      " [0.7854692  0.21453084]\n",
      "Jesus loves me \n",
      " [0.9355118  0.06448819]\n",
      "Put a ring on it \n",
      " [0.39489925 0.60510075]\n",
      "Mercedes Benz: $20,000 \n",
      " [0.06225213 0.9377479 ]\n",
      "You suck \n",
      " [0.6228995  0.37710053]\n",
      "The decision on Sergeant Bergdahl is a complete and total disgrace to our Country and to our Military. \n",
      " [0.29189077 0.7081092 ]\n",
      "Does anybody really believe that a reporter, who nobody ever heard of, went to his mailbox and found my tax returns? @NBCNews FAKE NEWS! \n",
      " [0.86135995 0.13864009]\n",
      "After Turkey call I will be heading over to Trump National Golf Club, Jupiter, to play golf (quickly) with Tiger Woods and Dustin Johnson. Then back to Mar-a-Lago for talks on bringing even more jobs and companies back to the USA! \n",
      " [0.30206624 0.69793373]\n",
      "“The President has accomplished some absolutely historic things during this past year.” Thank you Charlie Kirk of Turning Points USA. Sadly, the Fake Mainstream Media will NEVER talk about our accomplishments in their end of year reviews. We are compiling a long & beautiful list. \n",
      " [0.97554487 0.02445516]\n",
      "Crazy Joe Scarborough and dumb as a rock Mika are not bad people, but their low rated show is dominated by their NBC bosses. Too bad! \n",
      " [0.66128385 0.33871612]\n",
      "Robert Pattinson should not take back Kristen Stewart. She cheated on him like a dog & will do it again--just watch. He can do much better! \n",
      " [0.22104256 0.7789574 ]\n"
     ]
    }
   ],
   "source": [
    "test_tweets = [\"Fuck you\",\"I love you\",\"I hate homework\",\"I like homework\", \"Life sucks\",\"Life is good\",\n",
    "               \"Jesus loves me\",\"Put a ring on it\",\"Mercedes Benz: $20,000\", \"You suck\",\n",
    "                \"The decision on Sergeant Bergdahl is a complete and total disgrace to our Country and to our Military.\",\n",
    "                \"Does anybody really believe that a reporter, who nobody ever heard of, went to his mailbox and found my tax returns? @NBCNews FAKE NEWS!\",\n",
    "                \"After Turkey call I will be heading over to Trump National Golf Club, Jupiter, to play golf (quickly) with Tiger Woods and Dustin Johnson. Then back to Mar-a-Lago for talks on bringing even more jobs and companies back to the USA!\",\n",
    "                \"“The President has accomplished some absolutely historic things during this past year.” Thank you Charlie Kirk of Turning Points USA. Sadly, the Fake Mainstream Media will NEVER talk about our accomplishments in their end of year reviews. We are compiling a long & beautiful list.\",\n",
    "                \"Crazy Joe Scarborough and dumb as a rock Mika are not bad people, but their low rated show is dominated by their NBC bosses. Too bad!\",\n",
    "                \"Robert Pattinson should not take back Kristen Stewart. She cheated on him like a dog & will do it again--just watch. He can do much better!\"]\n",
    "\n",
    "tokenizer.fit_on_texts(test_tweets)\n",
    "sequences = tokenizer.texts_to_sequences(test_tweets)\n",
    "\n",
    "\n",
    "test_tweets_fit = sequence.pad_sequences(sequences, maxlen=max_tweet_length)\n",
    "\n",
    "predictions = model.predict(test_tweets_fit)\n",
    "for i in range(len(predictions)):\n",
    "    print(test_tweets[i],\"\\n\",predictions[i])"
   ]
  },
  {
   "cell_type": "code",
   "execution_count": 24,
   "metadata": {},
   "outputs": [
    {
     "name": "stdout",
     "output_type": "stream",
     "text": [
      "accuracy =  54.520357142857144\n"
     ]
    }
   ],
   "source": [
    "Y_pred=model.predict(X_test,verbose=0)\n",
    "acc=0\n",
    "for item in range(len(Y_pred)):\n",
    "    if Y_test[item][0]==1 and Y_test[item][1]==0:\n",
    "        if tweets_test[item][1]=='0' and Y_pred[item][1]>=0.5:\n",
    "            acc+=1\n",
    "        elif tweets_test[item][1]=='1' and Y_pred[item][0]>=0.5:\n",
    "            acc+=1   \n",
    "    if Y_test[item][0]==0 and Y_test[item][1]==1:\n",
    "        if tweets_test[item][1]=='0' and Y_pred[item][0]>=0.5:\n",
    "            acc+=1\n",
    "        elif tweets_test[item][1]=='1' and Y_pred[item][1]>=0.5:\n",
    "            acc+=1   \n",
    "            \n",
    "print(\"accuracy = \",acc/len(Y_pred)*100)"
   ]
  },
  {
   "cell_type": "code",
   "execution_count": null,
   "metadata": {
    "collapsed": true
   },
   "outputs": [],
   "source": []
  }
 ],
 "metadata": {
  "kernelspec": {
   "display_name": "Python 3",
   "language": "python",
   "name": "python3"
  },
  "language_info": {
   "codemirror_mode": {
    "name": "ipython",
    "version": 3
   },
   "file_extension": ".py",
   "mimetype": "text/x-python",
   "name": "python",
   "nbconvert_exporter": "python",
   "pygments_lexer": "ipython3",
   "version": "3.6.3"
  }
 },
 "nbformat": 4,
 "nbformat_minor": 2
}
