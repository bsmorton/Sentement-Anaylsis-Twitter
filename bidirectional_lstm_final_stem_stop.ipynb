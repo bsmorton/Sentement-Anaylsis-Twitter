{
 "cells": [
  {
   "cell_type": "code",
   "execution_count": 1,
   "metadata": {},
   "outputs": [
    {
     "name": "stderr",
     "output_type": "stream",
     "text": [
      "C:\\Users\\aylme\\Anaconda3\\lib\\site-packages\\h5py\\__init__.py:34: FutureWarning: Conversion of the second argument of issubdtype from `float` to `np.floating` is deprecated. In future, it will be treated as `np.float64 == np.dtype(float).type`.\n",
      "  from ._conv import register_converters as _register_converters\n",
      "Using TensorFlow backend.\n"
     ]
    },
    {
     "name": "stdout",
     "output_type": "stream",
     "text": [
      "SUCCESS\n",
      "(990000,)\n"
     ]
    }
   ],
   "source": [
    "import io\n",
    "import numpy as np\n",
    "from keras.models import Sequential\n",
    "from keras.layers import Dense, Input, TimeDistributed, Flatten, Dropout, Conv1D, MaxPooling1D\n",
    "from keras.layers import LSTM, SimpleRNN, Bidirectional\n",
    "from keras.layers.embeddings import Embedding\n",
    "from keras.preprocessing import sequence\n",
    "from keras.utils import to_categorical\n",
    "from sklearn.feature_extraction.text import CountVectorizer\n",
    "from nltk.corpus import stopwords\n",
    "from keras.preprocessing.text import Tokenizer\n",
    "from nltk.stem.porter import *\n",
    "\n",
    "stemmer = PorterStemmer()\n",
    "\n",
    "np.random.seed(42)\n",
    "\n",
    "###########################################################################\n",
    "#generate training/test data\n",
    "########################################################################### \n",
    "\n",
    "positive_file1 = io.open(\"cleantweets/Happy_clean.txt\",'r',encoding=\"latin-1\")\n",
    "positive_file2 = io.open(\"cleantweets/Blessed_clean.txt\",'r',encoding=\"latin-1\")\n",
    "positive_file3 = io.open(\"cleantweets/Proud_clean.txt\",'r',encoding=\"latin-1\")\n",
    "\n",
    "negative_file1 = io.open(\"cleantweets/FML_clean.txt\",'r',encoding=\"latin-1\")\n",
    "negative_file2 = io.open(\"cleantweets/Sad_clean.txt\",'r',encoding=\"latin-1\")\n",
    "negative_file3 = io.open(\"cleantweets/Ugh_clean.txt\",'r',encoding=\"latin-1\")\n",
    "\n",
    "\n",
    "positive_tweets = []\n",
    "\n",
    "negative_tweets = []\n",
    "\n",
    "\n",
    "stop_words=set(stopwords.words(\"english\"))\n",
    "\n",
    "\n",
    "for _ in range(230000):\n",
    "    pos=positive_file1.readline().strip(\"\\n\").split()\n",
    "    temp=[]\n",
    "    for word in pos:\n",
    "        if word.lower() not in stop_words:\n",
    "            temp.append(stemmer.stem(word))\n",
    "    positive_tweets.append([\" \".join(temp),0])\n",
    "    \n",
    "    pos=positive_file2.readline().strip(\"\\n\").split()\n",
    "    temp=[]\n",
    "    for word in pos:\n",
    "        if word.lower() not in stop_words:\n",
    "            temp.append(stemmer.stem(word))\n",
    "    positive_tweets.append([\" \".join(temp),0])\n",
    "    \n",
    "    pos=positive_file3.readline().strip(\"\\n\").split()\n",
    "    temp=[]\n",
    "    for word in pos:\n",
    "        if word.lower() not in stop_words:\n",
    "            temp.append(stemmer.stem(word))\n",
    "    positive_tweets.append([\" \".join(temp),0])\n",
    "    \n",
    "    neg=negative_file1.readline().strip(\"\\n\").split()\n",
    "    temp=[]\n",
    "    for word in neg:\n",
    "        if word.lower() not in stop_words:\n",
    "            temp.append(stemmer.stem(word))\n",
    "    negative_tweets.append([\" \".join(temp),1])\n",
    "    \n",
    "    neg=negative_file2.readline().strip(\"\\n\").split()\n",
    "    temp=[]\n",
    "    for word in neg:\n",
    "        if word.lower() not in stop_words:\n",
    "            temp.append(stemmer.stem(word))\n",
    "    negative_tweets.append([\" \".join(temp),1])\n",
    "    \n",
    "    neg=negative_file3.readline().strip(\"\\n\").split()\n",
    "    temp=[]\n",
    "    for word in neg:\n",
    "        if word.lower() not in stop_words:\n",
    "            temp.append(stemmer.stem(word))\n",
    "    negative_tweets.append([\" \".join(temp),1])\n",
    "    \n",
    "tweets = positive_tweets+negative_tweets\n",
    "np.random.shuffle(tweets)\n",
    "\n",
    "\n",
    "tweets_train = np.array(tweets[:990000])\n",
    "tweets_test = np.array(tweets[990000:1100000])\n",
    "\n",
    "X_train = tweets_train[:,0]\n",
    "Y_train = to_categorical(np.array([[int(i)] for i in tweets_train[:,1]],dtype=np.int))\n",
    "X_test = tweets_test[:,0]\n",
    "Y_test = to_categorical(np.array([[int(i)] for i in tweets_test[:,1]],dtype=np.int))\n",
    "\n",
    "\n",
    "\n",
    "\n",
    "\n",
    "print(\"SUCCESS\")\n",
    "print(X_train.shape)"
   ]
  },
  {
   "cell_type": "code",
   "execution_count": 2,
   "metadata": {},
   "outputs": [
    {
     "name": "stdout",
     "output_type": "stream",
     "text": [
      "Found 712195 unique tokens.\n"
     ]
    }
   ],
   "source": [
    "top_words = 750000\n",
    "max_tweet_length = 50\n",
    "\n",
    "tokenizer = Tokenizer(num_words = top_words)\n",
    "tokenizer.fit_on_texts(X_train)\n",
    "sequences = tokenizer.texts_to_sequences(X_train)\n",
    "word_index = tokenizer.word_index\n",
    "\n",
    "\n",
    "X_train = sequence.pad_sequences(sequences, maxlen=max_tweet_length)\n",
    "Y_train = np.asarray(Y_train)\n",
    "\n",
    "tokenizer.fit_on_texts(X_test)\n",
    "sequences = tokenizer.texts_to_sequences(X_test)\n",
    "\n",
    "\n",
    "X_test = sequence.pad_sequences(sequences, maxlen=max_tweet_length)\n",
    "Y_test = np.asarray(Y_test)\n",
    "\n",
    "\n",
    "print ('Found %s unique tokens.' % len(word_index))\n",
    "\n",
    "\n"
   ]
  },
  {
   "cell_type": "code",
   "execution_count": 3,
   "metadata": {},
   "outputs": [
    {
     "name": "stdout",
     "output_type": "stream",
     "text": [
      "_________________________________________________________________\n",
      "Layer (type)                 Output Shape              Param #   \n",
      "=================================================================\n",
      "embedding_1 (Embedding)      (None, 50, 50)            37500000  \n",
      "_________________________________________________________________\n",
      "dropout_1 (Dropout)          (None, 50, 50)            0         \n",
      "_________________________________________________________________\n",
      "dense_1 (Dense)              (None, 50, 300)           15300     \n",
      "_________________________________________________________________\n",
      "dropout_2 (Dropout)          (None, 50, 300)           0         \n",
      "_________________________________________________________________\n",
      "dense_2 (Dense)              (None, 50, 300)           90300     \n",
      "_________________________________________________________________\n",
      "bidirectional_1 (Bidirection (None, 50, 600)           1442400   \n",
      "_________________________________________________________________\n",
      "time_distributed_1 (TimeDist (None, 50, 1)             601       \n",
      "_________________________________________________________________\n",
      "flatten_1 (Flatten)          (None, 50)                0         \n",
      "_________________________________________________________________\n",
      "dense_4 (Dense)              (None, 2)                 102       \n",
      "=================================================================\n",
      "Total params: 39,048,703\n",
      "Trainable params: 39,048,703\n",
      "Non-trainable params: 0\n",
      "_________________________________________________________________\n",
      "None\n"
     ]
    },
    {
     "name": "stderr",
     "output_type": "stream",
     "text": [
      "C:\\Users\\aylme\\Anaconda3\\lib\\site-packages\\keras\\models.py:944: UserWarning: The `nb_epoch` argument in `fit` has been renamed `epochs`.\n",
      "  warnings.warn('The `nb_epoch` argument in `fit` '\n"
     ]
    },
    {
     "name": "stdout",
     "output_type": "stream",
     "text": [
      "Train on 990000 samples, validate on 110000 samples\n",
      "Epoch 1/4\n",
      "990000/990000 [==============================] - 10888s 11ms/step - loss: 0.5059 - acc: 0.7114 - val_loss: 0.7369 - val_acc: 0.6343\n",
      "Epoch 2/4\n",
      "990000/990000 [==============================] - 13431s 14ms/step - loss: 0.3299 - acc: 0.8594 - val_loss: 0.7855 - val_acc: 0.6196\n",
      "Epoch 3/4\n",
      "990000/990000 [==============================] - 11621s 12ms/step - loss: 0.2729 - acc: 0.8866 - val_loss: 0.8392 - val_acc: 0.6118\n",
      "Epoch 4/4\n",
      "990000/990000 [==============================] - 10893s 11ms/step - loss: 0.2480 - acc: 0.8972 - val_loss: 0.8994 - val_acc: 0.6010\n"
     ]
    }
   ],
   "source": [
    "import keras.optimizers\n",
    "\n",
    "\n",
    "embedding_vector_length = 50\n",
    "model = Sequential()\n",
    "model.add(Embedding(top_words, embedding_vector_length, input_length=max_tweet_length))\n",
    "model.add(Dropout(0.5))\n",
    "model.add(Dense(300,activation='softmax'))\n",
    "model.add(Dropout(0.5))\n",
    "model.add(Dense(300,activation='softmax'))\n",
    "model.add(Bidirectional(LSTM(300,return_sequences=True,recurrent_dropout=0.5,dropout=0.5)))\n",
    "model.add(TimeDistributed(Dense(1)))\n",
    "model.add(Flatten())\n",
    "model.add(Dense(2, activation='softmax'))\n",
    "adam = keras.optimizers.Adam(lr=0.001)\n",
    "model.compile(optimizer=adam,loss='categorical_crossentropy', metrics=['accuracy'])\n",
    "print(model.summary())\n",
    "history = model.fit(X_train, Y_train, nb_epoch=4, batch_size=32, validation_data=(X_test,Y_test))\n",
    "model.save_weights('bidirectional_LSTM_final_stem_stop.h5')\n",
    "\n",
    "\n",
    "\n"
   ]
  },
  {
   "cell_type": "code",
   "execution_count": 4,
   "metadata": {},
   "outputs": [
    {
     "data": {
      "image/png": "[encoded data removed]",
      "text/plain": [
       "<matplotlib.figure.Figure at 0x1d736632e80>"
      ]
     },
     "metadata": {},
     "output_type": "display_data"
    },
    {
     "data": {
      "image/png": "[encoded data removed]",
      "text/plain": [
       "<matplotlib.figure.Figure at 0x1d87da6bac8>"
      ]
     },
     "metadata": {},
     "output_type": "display_data"
    }
   ],
   "source": [
    "import matplotlib.pyplot as plt\n",
    "acc = history.history['acc']\n",
    "val_acc = history.history['val_acc']\n",
    "loss = history.history['loss']\n",
    "val_loss = history.history['val_loss']\n",
    "\n",
    "epochs = range(1, len(acc) +1)\n",
    "\n",
    "plt.plot(epochs, acc, 'bo', label = 'Training acc')\n",
    "plt.plot(epochs, val_acc, 'b', label = 'Validation acc')\n",
    "plt.title('Training and validation accuracy')\n",
    "plt.legend()\n",
    "\n",
    "plt.figure()\n",
    "plt.plot(epochs, loss, 'bo', label = 'Training loss')\n",
    "plt.plot(epochs, val_loss, 'b', label = 'Validation loss')\n",
    "plt.title('Training and validation loss')\n",
    "plt.legend()\n",
    "\n",
    "plt.show()"
   ]
  },
  {
   "cell_type": "code",
   "execution_count": 5,
   "metadata": {},
   "outputs": [
    {
     "name": "stdout",
     "output_type": "stream",
     "text": [
      "Classification Error on Test Set:  [0.8994239994916049, 0.6010090909090909]\n"
     ]
    }
   ],
   "source": [
    "model.load_weights('bidirectional_LSTM_final_stem_stop.h5')\n",
    "print(\"Classification Error on Test Set: \",model.evaluate(X_test,Y_test,verbose=0))"
   ]
  },
  {
   "cell_type": "code",
   "execution_count": 6,
   "metadata": {},
   "outputs": [
    {
     "ename": "AttributeError",
     "evalue": "'list' object has no attribute 'lower'",
     "output_type": "error",
     "traceback": [
      "\u001b[1;31m---------------------------------------------------------------------------\u001b[0m",
      "\u001b[1;31mAttributeError\u001b[0m                            Traceback (most recent call last)",
      "\u001b[1;32m<ipython-input-6-a11c1cd7c789>\u001b[0m in \u001b[0;36m<module>\u001b[1;34m()\u001b[0m\n\u001b[0;32m     15\u001b[0m     \u001b[0mtemp_test_tweets\u001b[0m\u001b[1;33m.\u001b[0m\u001b[0mappend\u001b[0m\u001b[1;33m(\u001b[0m\u001b[1;33m[\u001b[0m\u001b[1;34m\" \"\u001b[0m\u001b[1;33m.\u001b[0m\u001b[0mjoin\u001b[0m\u001b[1;33m(\u001b[0m\u001b[0mtemp\u001b[0m\u001b[1;33m)\u001b[0m\u001b[1;33m,\u001b[0m\u001b[1;36m0\u001b[0m\u001b[1;33m]\u001b[0m\u001b[1;33m)\u001b[0m\u001b[1;33m\u001b[0m\u001b[0m\n\u001b[0;32m     16\u001b[0m \u001b[1;33m\u001b[0m\u001b[0m\n\u001b[1;32m---> 17\u001b[1;33m \u001b[0mtokenizer\u001b[0m\u001b[1;33m.\u001b[0m\u001b[0mfit_on_texts\u001b[0m\u001b[1;33m(\u001b[0m\u001b[0mtemp_test_tweets\u001b[0m\u001b[1;33m)\u001b[0m\u001b[1;33m\u001b[0m\u001b[0m\n\u001b[0m\u001b[0;32m     18\u001b[0m \u001b[0msequences\u001b[0m \u001b[1;33m=\u001b[0m \u001b[0mtokenizer\u001b[0m\u001b[1;33m.\u001b[0m\u001b[0mtexts_to_sequences\u001b[0m\u001b[1;33m(\u001b[0m\u001b[0mtemp_test_tweets\u001b[0m\u001b[1;33m)\u001b[0m\u001b[1;33m\u001b[0m\u001b[0m\n\u001b[0;32m     19\u001b[0m \u001b[1;33m\u001b[0m\u001b[0m\n",
      "\u001b[1;32m~\\Anaconda3\\lib\\site-packages\\keras\\preprocessing\\text.py\u001b[0m in \u001b[0;36mfit_on_texts\u001b[1;34m(self, texts)\u001b[0m\n\u001b[0;32m    186\u001b[0m                                                                      \u001b[0mself\u001b[0m\u001b[1;33m.\u001b[0m\u001b[0mfilters\u001b[0m\u001b[1;33m,\u001b[0m\u001b[1;33m\u001b[0m\u001b[0m\n\u001b[0;32m    187\u001b[0m                                                                      \u001b[0mself\u001b[0m\u001b[1;33m.\u001b[0m\u001b[0mlower\u001b[0m\u001b[1;33m,\u001b[0m\u001b[1;33m\u001b[0m\u001b[0m\n\u001b[1;32m--> 188\u001b[1;33m                                                                      self.split)\n\u001b[0m\u001b[0;32m    189\u001b[0m             \u001b[1;32mfor\u001b[0m \u001b[0mw\u001b[0m \u001b[1;32min\u001b[0m \u001b[0mseq\u001b[0m\u001b[1;33m:\u001b[0m\u001b[1;33m\u001b[0m\u001b[0m\n\u001b[0;32m    190\u001b[0m                 \u001b[1;32mif\u001b[0m \u001b[0mw\u001b[0m \u001b[1;32min\u001b[0m \u001b[0mself\u001b[0m\u001b[1;33m.\u001b[0m\u001b[0mword_counts\u001b[0m\u001b[1;33m:\u001b[0m\u001b[1;33m\u001b[0m\u001b[0m\n",
      "\u001b[1;32m~\\Anaconda3\\lib\\site-packages\\keras\\preprocessing\\text.py\u001b[0m in \u001b[0;36mtext_to_word_sequence\u001b[1;34m(text, filters, lower, split)\u001b[0m\n\u001b[0;32m     37\u001b[0m     \"\"\"\n\u001b[0;32m     38\u001b[0m     \u001b[1;32mif\u001b[0m \u001b[0mlower\u001b[0m\u001b[1;33m:\u001b[0m\u001b[1;33m\u001b[0m\u001b[0m\n\u001b[1;32m---> 39\u001b[1;33m         \u001b[0mtext\u001b[0m \u001b[1;33m=\u001b[0m \u001b[0mtext\u001b[0m\u001b[1;33m.\u001b[0m\u001b[0mlower\u001b[0m\u001b[1;33m(\u001b[0m\u001b[1;33m)\u001b[0m\u001b[1;33m\u001b[0m\u001b[0m\n\u001b[0m\u001b[0;32m     40\u001b[0m \u001b[1;33m\u001b[0m\u001b[0m\n\u001b[0;32m     41\u001b[0m     \u001b[1;32mif\u001b[0m \u001b[0msys\u001b[0m\u001b[1;33m.\u001b[0m\u001b[0mversion_info\u001b[0m \u001b[1;33m<\u001b[0m \u001b[1;33m(\u001b[0m\u001b[1;36m3\u001b[0m\u001b[1;33m,\u001b[0m\u001b[1;33m)\u001b[0m \u001b[1;32mand\u001b[0m \u001b[0misinstance\u001b[0m\u001b[1;33m(\u001b[0m\u001b[0mtext\u001b[0m\u001b[1;33m,\u001b[0m \u001b[0municode\u001b[0m\u001b[1;33m)\u001b[0m\u001b[1;33m:\u001b[0m\u001b[1;33m\u001b[0m\u001b[0m\n",
      "\u001b[1;31mAttributeError\u001b[0m: 'list' object has no attribute 'lower'"
     ]
    }
   ],
   "source": [
    "test_tweets = [\"Fuck you\",\"I love you\",\"I hate homework\",\"I like homework\", \"Life sucks\",\"Life is good\",\n",
    "               \"Jesus loves me\",\"Put a ring on it\",\"Mercedes Benz: $20,000\", \"You suck\",\n",
    "                \"The decision on Sergeant Bergdahl is a complete and total disgrace to our Country and to our Military.\",\n",
    "                \"Does anybody really believe that a reporter, who nobody ever heard of, went to his mailbox and found my tax returns? @NBCNews FAKE NEWS!\",\n",
    "                \"After Turkey call I will be heading over to Trump National Golf Club, Jupiter, to play golf (quickly) with Tiger Woods and Dustin Johnson. Then back to Mar-a-Lago for talks on bringing even more jobs and companies back to the USA!\",\n",
    "                \"“The President has accomplished some absolutely historic things during this past year.” Thank you Charlie Kirk of Turning Points USA. Sadly, the Fake Mainstream Media will NEVER talk about our accomplishments in their end of year reviews. We are compiling a long & beautiful list.\",\n",
    "                \"Crazy Joe Scarborough and dumb as a rock Mika are not bad people, but their low rated show is dominated by their NBC bosses. Too bad!\",\n",
    "                \"Robert Pattinson should not take back Kristen Stewart. She cheated on him like a dog & will do it again--just watch. He can do much better!\"]\n",
    "temp=[]\n",
    "temp_test_tweets=[]\n",
    "for item in test_tweets:\n",
    "    for word in item:\n",
    "        if word.lower() not in stop_words:\n",
    "            temp.append(stemmer.stem(word))\n",
    "    temp_test_tweets.append([\" \".join(temp),0])\n",
    "\n",
    "tokenizer.fit_on_texts(temp_test_tweets)\n",
    "sequences = tokenizer.texts_to_sequences(temp_test_tweets)\n",
    "\n",
    "\n",
    "test_tweets_fit = sequence.pad_sequences(sequences, maxlen=max_tweet_length)\n",
    "\n",
    "predictions = model.predict(test_tweets_fit)\n",
    "for i in range(len(predictions)):\n",
    "    print(test_tweets[i],\"\\n\",predictions[i])"
   ]
  },
  {
   "cell_type": "code",
   "execution_count": null,
   "metadata": {
    "collapsed": true
   },
   "outputs": [],
   "source": []
  },
  {
   "cell_type": "code",
   "execution_count": null,
   "metadata": {
    "collapsed": true
   },
   "outputs": [],
   "source": []
  }
 ],
 "metadata": {
  "kernelspec": {
   "display_name": "Python 3",
   "language": "python",
   "name": "python3"
  }
 },
 "nbformat": 4,
 "nbformat_minor": 2
}
