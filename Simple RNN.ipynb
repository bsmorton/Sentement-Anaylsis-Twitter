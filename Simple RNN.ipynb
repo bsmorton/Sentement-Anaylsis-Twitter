{
 "cells": [
  {
   "cell_type": "code",
   "execution_count": 1,
   "metadata": {},
   "outputs": [
    {
     "name": "stderr",
     "output_type": "stream",
     "text": [
      "Using TensorFlow backend.\n"
     ]
    },
    {
     "name": "stdout",
     "output_type": "stream",
     "text": [
      "Found 271907 unique tokens.\n",
      "shape of the data tensor: (348600, 50)\n",
      "shape of the label tensor:  (348600,)\n"
     ]
    }
   ],
   "source": [
    "import io\n",
    "import numpy as np\n",
    "from sklearn.feature_extraction.text import CountVectorizer\n",
    "from sklearn.feature_extraction.text import TfidfTransformer\n",
    "from sklearn.linear_model import LogisticRegression \n",
    "\n",
    "###########################################################################\n",
    "#generate training/test data\n",
    "########################################################################### \n",
    "bragging_file = io.open(\"Happy_clean.txt\",'r',encoding=\"utf-8\") \n",
    "bitching_file = io.open(\"FML_clean.txt\",'r',encoding=\"utf-8\") \n",
    "\n",
    "training_samples = 30000\n",
    "bragging_tweets = []\n",
    "bitching_tweets = []\n",
    "\n",
    "for _ in range(249000):\n",
    "    bragging_tweets.append([bragging_file.readline().strip(\"\\n\"),0])\n",
    "    bitching_tweets.append([bitching_file.readline().strip(\"\\n\"),1])\n",
    "    \n",
    "tweets = bragging_tweets+bitching_tweets\n",
    "np.random.seed(42)\n",
    "np.random.shuffle(tweets)\n",
    "\n",
    "\n",
    "tweets_train = np.array(tweets[:348600])\n",
    "tweets_test = np.array(tweets[348600:498000])\n",
    "\n",
    "X_train = tweets_train[:,0]\n",
    "Y_train = tweets_train[:,1]\n",
    "# X_val = tweets_train[training_samples:maximum_data,0]\n",
    "# Y_val = tweets_train[training_samples:maximum_data,1]\n",
    "X_test = tweets_test[:,0]\n",
    "Y_test = tweets_test[:,1]\n",
    "\n",
    "\n",
    "\n",
    "\n",
    "### tokenizing each word in the document\n",
    "from keras.preprocessing.text import Tokenizer\n",
    "from keras.preprocessing.sequence import pad_sequences\n",
    "import numpy as np\n",
    "\n",
    "maxlen = 50\n",
    "training_samples = 200000\n",
    "max_words = 10000\n",
    "tokenizer = Tokenizer(num_words = max_words)\n",
    "tokenizer.fit_on_texts(X_train)\n",
    "sequences = tokenizer.texts_to_sequences(X_train)\n",
    "word_index = tokenizer.word_index\n",
    "print ('Found %s unique tokens.' % len(word_index))\n",
    "\n",
    "data = pad_sequences(sequences, maxlen = maxlen)\n",
    "labels = np.asarray(Y_train)\n",
    "print (\"shape of the data tensor:\", data.shape)\n",
    "print (\"shape of the label tensor: \", labels.shape)\n",
    "x_train = data[:]\n",
    "y_train = labels[:]"
   ]
  },
  {
   "cell_type": "code",
   "execution_count": null,
   "metadata": {
    "collapsed": true
   },
   "outputs": [],
   "source": [
    "#================== Embedding section =============#\n",
    "\n",
    "import os\n",
    "\n",
    "x_train = data[:]\n",
    "y_train = labels[:]\n",
    "# x_val = data[training_samples:]\n",
    "# y_val = labels[training_samples:]\n",
    "\n",
    "glove_dir = '/Users/hamzakhan/Desktop/Winter 2018/Hashtag_Recommendations_NN/glove.twitter.27B'\n",
    "embeddings_index = {}\n",
    "#your maxlen and you .txt files must correspond\n",
    "f = open(os.path.join(glove_dir, 'glove.twitter.27B.50d.txt'))\n",
    "for line in f:\n",
    "    values = line.split()\n",
    "    word = values[0]\n",
    "    coefs=np.asarray(values[1:], dtype='float32')\n",
    "    embeddings_index[word] = coefs\n",
    "f.close()\n",
    "print('Found %s word vectors.'%len(embeddings_index))\n",
    "\n",
    "embedding_dim = maxlen\n",
    "embedding_matrix = np.zeros((max_words, embedding_dim))\n",
    "for word, i in word_index.items():\n",
    "    if (i < max_words):\n",
    "        embedding_vector= embeddings_index.get(word)\n",
    "        if (embedding_vector is not None):\n",
    "            embedding_matrix[i] = embedding_vector  "
   ]
  },
  {
   "cell_type": "code",
   "execution_count": 6,
   "metadata": {},
   "outputs": [
    {
     "name": "stdout",
     "output_type": "stream",
     "text": [
      "Train on 331170 samples, validate on 17430 samples\n",
      "Epoch 1/10\n",
      "331170/331170 [==============================] - 402s 1ms/step - loss: 0.2906 - acc: 0.8747 - val_loss: 0.2290 - val_acc: 0.9061\n",
      "Epoch 2/10\n",
      "331170/331170 [==============================] - 410s 1ms/step - loss: 0.2192 - acc: 0.9118 - val_loss: 0.2196 - val_acc: 0.9130\n",
      "Epoch 3/10\n",
      "331170/331170 [==============================] - 403s 1ms/step - loss: 0.2045 - acc: 0.9187 - val_loss: 0.2574 - val_acc: 0.8893\n",
      "Epoch 4/10\n",
      "331170/331170 [==============================] - 405s 1ms/step - loss: 0.1957 - acc: 0.9218 - val_loss: 0.3441 - val_acc: 0.8833\n",
      "Epoch 5/10\n",
      "331170/331170 [==============================] - 405s 1ms/step - loss: 0.1893 - acc: 0.9252 - val_loss: 0.1986 - val_acc: 0.9221\n",
      "Epoch 6/10\n",
      "331170/331170 [==============================] - 406s 1ms/step - loss: 0.1846 - acc: 0.9268 - val_loss: 0.4444 - val_acc: 0.8125\n",
      "Epoch 7/10\n",
      "331170/331170 [==============================] - 406s 1ms/step - loss: 0.1846 - acc: 0.9269 - val_loss: 0.2013 - val_acc: 0.9215\n",
      "Epoch 8/10\n",
      "331170/331170 [==============================] - 407s 1ms/step - loss: 0.1774 - acc: 0.9298 - val_loss: 0.1987 - val_acc: 0.9216\n",
      "Epoch 9/10\n",
      "331170/331170 [==============================] - 411s 1ms/step - loss: 0.1808 - acc: 0.9288 - val_loss: 0.2044 - val_acc: 0.9190\n",
      "Epoch 10/10\n",
      "331170/331170 [==============================] - 421s 1ms/step - loss: 0.1742 - acc: 0.9312 - val_loss: 0.2007 - val_acc: 0.9212\n"
     ]
    }
   ],
   "source": [
    "from keras.models import Sequential\n",
    "from keras.layers import Embedding, Flatten, Dense, SimpleRNN\n",
    "model = Sequential()\n",
    "model.add(Embedding(max_words,32))\n",
    "model.add(SimpleRNN(32))\n",
    "model.add(Dense(1,activation='sigmoid'))\n",
    "import keras.optimizers\n",
    "sgd = keras.optimizers.SGD(lr=0.0001*400)\n",
    "model.compile(optimizer = sgd,\n",
    "             loss = 'binary_crossentropy',\n",
    "             metrics = ['acc'])\n",
    "history = model.fit(x_train, y_train, epochs = 10, batch_size= 32, validation_split = 0.05 )"
   ]
  },
  {
   "cell_type": "code",
   "execution_count": 7,
   "metadata": {},
   "outputs": [
    {
     "data": {
      "image/png": "[encoded data removed]",
      "text/plain": [
       "<matplotlib.figure.Figure at 0x1aacdb59e8>"
      ]
     },
     "metadata": {},
     "output_type": "display_data"
    },
    {
     "data": {
      "image/png": "[encoded data removed]",
      "text/plain": [
       "<matplotlib.figure.Figure at 0x1aae5a4860>"
      ]
     },
     "metadata": {},
     "output_type": "display_data"
    }
   ],
   "source": [
    "import matplotlib.pyplot as plt\n",
    "acc = history.history['acc']\n",
    "val_acc = history.history['val_acc']\n",
    "loss = history.history['loss']\n",
    "val_loss = history.history['val_loss']\n",
    "\n",
    "epochs = range(1, len(acc) +1)\n",
    "\n",
    "plt.plot(epochs, acc, 'bo', label = 'Training acc')\n",
    "plt.plot(epochs, val_acc, 'b', label = 'Validation acc')\n",
    "plt.title('Training and validation accuracy (without embeddings)')\n",
    "plt.legend()\n",
    "\n",
    "plt.figure()\n",
    "plt.plot(epochs, loss, 'bo', label = 'Training loss')\n",
    "plt.plot(epochs, val_loss, 'b', label = 'Validation loss')\n",
    "plt.title('Training and validation loss (without embeddings)')\n",
    "plt.legend()\n",
    "\n",
    "plt.show()"
   ]
  },
  {
   "cell_type": "code",
   "execution_count": 9,
   "metadata": {},
   "outputs": [
    {
     "name": "stdout",
     "output_type": "stream",
     "text": [
      "149400/149400 [==============================] - 47s 316us/step\n"
     ]
    },
    {
     "data": {
      "text/plain": [
       "[0.19848046025318633, 0.9212851405590573]"
      ]
     },
     "execution_count": 9,
     "metadata": {},
     "output_type": "execute_result"
    }
   ],
   "source": [
    "sequences = tokenizer.texts_to_sequences(X_test)\n",
    "x_test = pad_sequences(sequences, maxlen = maxlen)\n",
    "y_test = np.asarray(Y_test)\n",
    "model.evaluate(x_test, y_test)"
   ]
  }
 ],
 "metadata": {
  "kernelspec": {
   "display_name": "Python 3",
   "language": "python",
   "name": "python3"
  },
  "language_info": {
   "codemirror_mode": {
    "name": "ipython",
    "version": 3
   },
   "file_extension": ".py",
   "mimetype": "text/x-python",
   "name": "python",
   "nbconvert_exporter": "python",
   "pygments_lexer": "ipython3",
   "version": "3.6.3"
  }
 },
 "nbformat": 4,
 "nbformat_minor": 2
}
