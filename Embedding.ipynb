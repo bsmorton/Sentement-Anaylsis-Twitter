{
 "cells": [
  {
   "cell_type": "code",
   "execution_count": 1,
   "metadata": {
    "collapsed": true
   },
   "outputs": [],
   "source": [
    "import io\n",
    "import numpy as np\n",
    "from sklearn.feature_extraction.text import CountVectorizer\n",
    "from sklearn.feature_extraction.text import TfidfTransformer\n",
    "from sklearn.linear_model import LogisticRegression \n",
    "\n",
    "###########################################################################\n",
    "#generate training/test data\n",
    "########################################################################### \n",
    "bragging_file = io.open(\"Happy_clean.txt\",'r',encoding=\"utf-8\") \n",
    "bitching_file = io.open(\"FML_clean.txt\",'r',encoding=\"utf-8\") \n",
    "\n",
    "training_samples = 30000\n",
    "bragging_tweets = []\n",
    "bitching_tweets = []\n",
    "\n",
    "for _ in range(249000):\n",
    "    bragging_tweets.append([bragging_file.readline().strip(\"\\n\"),0])\n",
    "    bitching_tweets.append([bitching_file.readline().strip(\"\\n\"),1])\n",
    "    \n",
    "tweets = bragging_tweets+bitching_tweets\n",
    "np.random.seed(42)\n",
    "np.random.shuffle(tweets)\n",
    "\n",
    "\n",
    "tweets_train = np.array(tweets[:348600])\n",
    "tweets_test = np.array(tweets[348600:498000])\n",
    "\n",
    "X_train = tweets_train[:,0]\n",
    "Y_train = tweets_train[:,1]\n",
    "# X_val = tweets_train[training_samples:maximum_data,0]\n",
    "# Y_val = tweets_train[training_samples:maximum_data,1]\n",
    "X_test = tweets_test[:,0]\n",
    "Y_test = tweets_test[:,1]\n",
    "\n",
    "# #########################################################################\n",
    "# #bag of words\n",
    "# #########################################################################\n",
    "\n",
    "# vectorizer = CountVectorizer()\n",
    "# X_train_counts = vectorizer.fit_transform(X_train)\n",
    "# X_val_counts = vectorizer.transform(X_val)\n",
    "# X_test_counts = vectorizer.transform(X_test)\n",
    "\n",
    "\n",
    "# # tfidf_transformer = TfidfTransformer()\n",
    "# # X_train_tfidf = tfidf_transformer.fit_transform(X_train_counts)\n",
    "# # X_test_tfidf = tfidf_transformer.transform(X_test_counts)\n",
    "\n",
    "# #########################################################################\n",
    "# #logistic regression\n",
    "# #########################################################################"
   ]
  },
  {
   "cell_type": "code",
   "execution_count": 2,
   "metadata": {},
   "outputs": [
    {
     "name": "stderr",
     "output_type": "stream",
     "text": [
      "Using TensorFlow backend.\n"
     ]
    },
    {
     "name": "stdout",
     "output_type": "stream",
     "text": [
      "Found 271907 unique tokens.\n"
     ]
    }
   ],
   "source": [
    "from keras.preprocessing.text import Tokenizer\n",
    "from keras.preprocessing.sequence import pad_sequences\n",
    "import numpy as np\n",
    "\n",
    "maxlen = 50\n",
    "training_samples = 200000\n",
    "max_words = 10000\n",
    "tokenizer = Tokenizer(num_words = max_words)\n",
    "tokenizer.fit_on_texts(X_train)\n",
    "sequences = tokenizer.texts_to_sequences(X_train)\n",
    "word_index = tokenizer.word_index\n",
    "print ('Found %s unique tokens.' % len(word_index))"
   ]
  },
  {
   "cell_type": "code",
   "execution_count": 3,
   "metadata": {},
   "outputs": [
    {
     "name": "stdout",
     "output_type": "stream",
     "text": [
      "shape of the data tensor: (348600, 50)\n",
      "shape of the label tensor:  (348600,)\n"
     ]
    }
   ],
   "source": [
    "data = pad_sequences(sequences, maxlen = maxlen)\n",
    "labels = np.asarray(Y_train)\n",
    "print (\"shape of the data tensor:\", data.shape)\n",
    "print (\"shape of the label tensor: \", labels.shape)\n",
    "x_train = data[:]\n",
    "y_train = labels[:]"
   ]
  },
  {
   "cell_type": "code",
   "execution_count": 4,
   "metadata": {},
   "outputs": [
    {
     "name": "stdout",
     "output_type": "stream",
     "text": [
      "Found 1193514 word vectors.\n"
     ]
    }
   ],
   "source": [
    "# splits data into a training set and a validation set\n",
    "# indices = np.arange(data.shape[0])\n",
    "# np.random.shuffle(indices)\n",
    "# data = data[indices]\n",
    "# labels = labels[indices]\n",
    "import os\n",
    "# x_val = data[training_samples:]\n",
    "# y_val = labels[training_samples:]\n",
    "\n",
    "glove_dir = '/Users/hamzakhan/Desktop/Winter 2018/Hashtag_Recommendations_NN/glove.twitter.27B'\n",
    "embeddings_index = {}\n",
    "#your maxlen and you .txt files must correspond\n",
    "f = open(os.path.join(glove_dir, 'glove.twitter.27B.50d.txt'))\n",
    "for line in f:\n",
    "    values = line.split()\n",
    "    word = values[0]\n",
    "    coefs=np.asarray(values[1:], dtype='float32')\n",
    "    embeddings_index[word] = coefs\n",
    "f.close()\n",
    "print('Found %s word vectors.'%len(embeddings_index))"
   ]
  },
  {
   "cell_type": "code",
   "execution_count": 5,
   "metadata": {
    "collapsed": true
   },
   "outputs": [],
   "source": [
    "embedding_dim = maxlen\n",
    "embedding_matrix = np.zeros((max_words, embedding_dim))\n",
    "for word, i in word_index.items():\n",
    "    if (i < max_words):\n",
    "        embedding_vector= embeddings_index.get(word)\n",
    "        if (embedding_vector is not None):\n",
    "            embedding_matrix[i] = embedding_vector            "
   ]
  },
  {
   "cell_type": "code",
   "execution_count": 6,
   "metadata": {},
   "outputs": [
    {
     "name": "stdout",
     "output_type": "stream",
     "text": [
      "_________________________________________________________________\n",
      "Layer (type)                 Output Shape              Param #   \n",
      "=================================================================\n",
      "embedding_1 (Embedding)      (None, 50, 50)            500000    \n",
      "_________________________________________________________________\n",
      "flatten_1 (Flatten)          (None, 2500)              0         \n",
      "_________________________________________________________________\n",
      "dense_1 (Dense)              (None, 32)                80032     \n",
      "_________________________________________________________________\n",
      "dense_2 (Dense)              (None, 1)                 33        \n",
      "=================================================================\n",
      "Total params: 580,065\n",
      "Trainable params: 580,065\n",
      "Non-trainable params: 0\n",
      "_________________________________________________________________\n"
     ]
    }
   ],
   "source": [
    "from keras.models import Sequential\n",
    "from keras.layers import Embedding, Flatten, Dense\n",
    "\n",
    "model = Sequential()\n",
    "model.add(Embedding(max_words, embedding_dim, input_length = maxlen))\n",
    "model.add(Flatten())\n",
    "model.add(Dense(32, activation = 'relu'))\n",
    "model.add(Dense(1, activation = 'sigmoid'))\n",
    "model.summary()"
   ]
  },
  {
   "cell_type": "code",
   "execution_count": 7,
   "metadata": {
    "collapsed": true
   },
   "outputs": [],
   "source": [
    "#this is where we add the embeddings to the model\n",
    "model.layers[0].set_weights([embedding_matrix])\n",
    "model.layers[0].trainable = False"
   ]
  },
  {
   "cell_type": "code",
   "execution_count": 8,
   "metadata": {},
   "outputs": [
    {
     "name": "stdout",
     "output_type": "stream",
     "text": [
      "Train on 331170 samples, validate on 17430 samples\n",
      "Epoch 1/10\n",
      "331170/331170 [==============================] - 32s 96us/step - loss: 0.2929 - acc: 0.8774 - val_loss: 0.3924 - val_acc: 0.8301\n",
      "Epoch 2/10\n",
      "331170/331170 [==============================] - 33s 99us/step - loss: 0.2634 - acc: 0.8908 - val_loss: 0.2687 - val_acc: 0.8901\n",
      "Epoch 3/10\n",
      "331170/331170 [==============================] - 35s 106us/step - loss: 0.2537 - acc: 0.8954 - val_loss: 0.2704 - val_acc: 0.8893\n",
      "Epoch 4/10\n",
      "331170/331170 [==============================] - 31s 92us/step - loss: 0.2468 - acc: 0.8985 - val_loss: 0.2525 - val_acc: 0.8974\n",
      "Epoch 5/10\n",
      "331170/331170 [==============================] - 34s 103us/step - loss: 0.2414 - acc: 0.9005 - val_loss: 0.2532 - val_acc: 0.8985\n",
      "Epoch 6/10\n",
      "331170/331170 [==============================] - 35s 106us/step - loss: 0.2368 - acc: 0.9023 - val_loss: 0.2481 - val_acc: 0.8980\n",
      "Epoch 7/10\n",
      "331170/331170 [==============================] - 34s 103us/step - loss: 0.2328 - acc: 0.9040 - val_loss: 0.2517 - val_acc: 0.8991\n",
      "Epoch 8/10\n",
      "331170/331170 [==============================] - 33s 99us/step - loss: 0.2291 - acc: 0.9053 - val_loss: 0.3613 - val_acc: 0.8679\n",
      "Epoch 9/10\n",
      "331170/331170 [==============================] - 33s 101us/step - loss: 0.2262 - acc: 0.9065 - val_loss: 0.2463 - val_acc: 0.8992\n",
      "Epoch 10/10\n",
      "331170/331170 [==============================] - 34s 102us/step - loss: 0.2230 - acc: 0.9080 - val_loss: 0.2459 - val_acc: 0.9007\n"
     ]
    }
   ],
   "source": [
    "import keras.optimizers\n",
    "sgd = keras.optimizers.SGD(lr=0.0001*400)\n",
    "model.compile(optimizer = sgd,\n",
    "             loss = 'binary_crossentropy',\n",
    "             metrics = ['acc'])\n",
    "\n",
    "history = model.fit(x_train, y_train, epochs = 10, batch_size= 32, validation_split = 0.05 )\n",
    "model.save_weights('pre-trained_glove_twitter_model.h5')"
   ]
  },
  {
   "cell_type": "code",
   "execution_count": 14,
   "metadata": {},
   "outputs": [
    {
     "data": {
      "image/png": "[encoded data removed]",
      "text/plain": [
       "<matplotlib.figure.Figure at 0x1ab8c4def0>"
      ]
     },
     "metadata": {},
     "output_type": "display_data"
    },
    {
     "data": {
      "image/png": "[encoded data removed]",
      "text/plain": [
       "<matplotlib.figure.Figure at 0x1a9edd2e48>"
      ]
     },
     "metadata": {},
     "output_type": "display_data"
    }
   ],
   "source": [
    "import matplotlib.pyplot as plt\n",
    "acc = history.history['acc']\n",
    "val_acc = history.history['val_acc']\n",
    "loss = history.history['loss']\n",
    "val_loss = history.history['val_loss']\n",
    "\n",
    "epochs = range(1, len(acc) +1)\n",
    "\n",
    "plt.plot(epochs, acc, 'bo', label = 'Training acc')\n",
    "plt.plot(epochs, val_acc, 'b', label = 'Validation acc')\n",
    "plt.title('Training and validation accuracy (with embeddings)')\n",
    "plt.legend()\n",
    "\n",
    "plt.figure()\n",
    "plt.plot(epochs, loss, 'bo', label = 'Training loss')\n",
    "plt.plot(epochs, val_loss, 'b', label = 'Validation loss')\n",
    "plt.title('Training and validation loss (with embeddings)')\n",
    "plt.legend()\n",
    "\n",
    "plt.show()"
   ]
  },
  {
   "cell_type": "code",
   "execution_count": 13,
   "metadata": {},
   "outputs": [
    {
     "name": "stdout",
     "output_type": "stream",
     "text": [
      "149400/149400 [==============================] - 8s 56us/step\n"
     ]
    },
    {
     "data": {
      "text/plain": [
       "[0.24519523541691154, 0.90046854083317829]"
      ]
     },
     "execution_count": 13,
     "metadata": {},
     "output_type": "execute_result"
    }
   ],
   "source": [
    "## These will be results on the test\n",
    "sequences = tokenizer.texts_to_sequences(X_test)\n",
    "x_test = pad_sequences(sequences, maxlen = maxlen)\n",
    "y_test = np.asarray(Y_test)\n",
    "model.load_weights('pre-trained_glove_twitter_model.h5')\n",
    "model.evaluate(x_test, y_test)"
   ]
  },
  {
   "cell_type": "code",
   "execution_count": 15,
   "metadata": {},
   "outputs": [
    {
     "name": "stdout",
     "output_type": "stream",
     "text": [
      "_________________________________________________________________\n",
      "Layer (type)                 Output Shape              Param #   \n",
      "=================================================================\n",
      "embedding_2 (Embedding)      (None, 50, 50)            500000    \n",
      "_________________________________________________________________\n",
      "flatten_2 (Flatten)          (None, 2500)              0         \n",
      "_________________________________________________________________\n",
      "dense_3 (Dense)              (None, 32)                80032     \n",
      "_________________________________________________________________\n",
      "dense_4 (Dense)              (None, 1)                 33        \n",
      "=================================================================\n",
      "Total params: 580,065\n",
      "Trainable params: 580,065\n",
      "Non-trainable params: 0\n",
      "_________________________________________________________________\n",
      "Train on 331170 samples, validate on 17430 samples\n",
      "Epoch 1/10\n",
      "331170/331170 [==============================] - 65s 198us/step - loss: 0.3138 - acc: 0.8609 - val_loss: 0.2528 - val_acc: 0.8947\n",
      "Epoch 2/10\n",
      "331170/331170 [==============================] - 62s 188us/step - loss: 0.2250 - acc: 0.9087 - val_loss: 0.2559 - val_acc: 0.8939\n",
      "Epoch 3/10\n",
      "331170/331170 [==============================] - 66s 200us/step - loss: 0.2071 - acc: 0.9163 - val_loss: 0.2223 - val_acc: 0.9101\n",
      "Epoch 4/10\n",
      "331170/331170 [==============================] - 59s 178us/step - loss: 0.1939 - acc: 0.9219 - val_loss: 0.2719 - val_acc: 0.8871\n",
      "Epoch 5/10\n",
      "331170/331170 [==============================] - 68s 205us/step - loss: 0.1841 - acc: 0.9269 - val_loss: 0.2149 - val_acc: 0.9155\n",
      "Epoch 6/10\n",
      "331170/331170 [==============================] - 68s 204us/step - loss: 0.1769 - acc: 0.9292 - val_loss: 0.2119 - val_acc: 0.9163\n",
      "Epoch 7/10\n",
      "331170/331170 [==============================] - 67s 204us/step - loss: 0.1698 - acc: 0.9325 - val_loss: 0.2057 - val_acc: 0.9192\n",
      "Epoch 8/10\n",
      "331170/331170 [==============================] - 67s 203us/step - loss: 0.1637 - acc: 0.9351 - val_loss: 0.2076 - val_acc: 0.9189\n",
      "Epoch 9/10\n",
      "331170/331170 [==============================] - 70s 210us/step - loss: 0.1575 - acc: 0.9378 - val_loss: 0.2135 - val_acc: 0.9160\n",
      "Epoch 10/10\n",
      "331170/331170 [==============================] - 70s 210us/step - loss: 0.1510 - acc: 0.9404 - val_loss: 0.2404 - val_acc: 0.9115\n"
     ]
    }
   ],
   "source": [
    "##Training without embeddings \n",
    "from keras.models import Sequential\n",
    "from keras.layers import Embedding, Flatten, Dense\n",
    "\n",
    "model = Sequential()\n",
    "model.add(Embedding(max_words, embedding_dim, input_length = maxlen))\n",
    "model.add(Flatten())\n",
    "model.add(Dense(32, activation = 'relu'))\n",
    "model.add(Dense(1, activation = 'sigmoid'))\n",
    "model.summary()\n",
    "import keras.optimizers\n",
    "sgd = keras.optimizers.SGD(lr=0.0001*400)\n",
    "model.compile(optimizer = sgd,\n",
    "             loss = 'binary_crossentropy',\n",
    "             metrics = ['acc'])\n",
    "\n",
    "history = model.fit(x_train, y_train, epochs = 10, batch_size= 32, validation_split = 0.05 )"
   ]
  },
  {
   "cell_type": "code",
   "execution_count": 16,
   "metadata": {},
   "outputs": [
    {
     "data": {
      "image/png": "[encoded data removed]",
      "text/plain": [
       "<matplotlib.figure.Figure at 0x1a9f395a90>"
      ]
     },
     "metadata": {},
     "output_type": "display_data"
    },
    {
     "data": {
      "image/png": "[encoded data removed]",
      "text/plain": [
       "<matplotlib.figure.Figure at 0x1a9f3a6390>"
      ]
     },
     "metadata": {},
     "output_type": "display_data"
    }
   ],
   "source": [
    "import matplotlib.pyplot as plt\n",
    "acc = history.history['acc']\n",
    "val_acc = history.history['val_acc']\n",
    "loss = history.history['loss']\n",
    "val_loss = history.history['val_loss']\n",
    "\n",
    "epochs = range(1, len(acc) +1)\n",
    "\n",
    "plt.plot(epochs, acc, 'bo', label = 'Training acc')\n",
    "plt.plot(epochs, val_acc, 'b', label = 'Validation acc')\n",
    "plt.title('Training and validation accuracy (without embeddings)')\n",
    "plt.legend()\n",
    "\n",
    "plt.figure()\n",
    "plt.plot(epochs, loss, 'bo', label = 'Training loss')\n",
    "plt.plot(epochs, val_loss, 'b', label = 'Validation loss')\n",
    "plt.title('Training and validation loss (without embeddings)')\n",
    "plt.legend()\n",
    "\n",
    "plt.show()"
   ]
  },
  {
   "cell_type": "code",
   "execution_count": 17,
   "metadata": {},
   "outputs": [
    {
     "name": "stdout",
     "output_type": "stream",
     "text": [
      "149400/149400 [==============================] - 7s 46us/step\n"
     ]
    },
    {
     "data": {
      "text/plain": [
       "[0.22842103302129702, 0.91319277108752905]"
      ]
     },
     "execution_count": 17,
     "metadata": {},
     "output_type": "execute_result"
    }
   ],
   "source": [
    "model.evaluate(x_test, y_test)"
   ]
  }
 ],
 "metadata": {
  "kernelspec": {
   "display_name": "Python 3",
   "language": "python",
   "name": "python3"
  },
  "language_info": {
   "codemirror_mode": {
    "name": "ipython",
    "version": 3
   },
   "file_extension": ".py",
   "mimetype": "text/x-python",
   "name": "python",
   "nbconvert_exporter": "python",
   "pygments_lexer": "ipython3",
   "version": "3.6.3"
  }
 },
 "nbformat": 4,
 "nbformat_minor": 2
}
