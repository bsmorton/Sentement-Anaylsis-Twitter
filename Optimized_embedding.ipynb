{
 "cells": [
  {
   "cell_type": "code",
   "execution_count": 1,
   "metadata": {},
   "outputs": [
    {
     "name": "stderr",
     "output_type": "stream",
     "text": [
      "C:\\Users\\aylme\\Anaconda3\\lib\\site-packages\\h5py\\__init__.py:34: FutureWarning: Conversion of the second argument of issubdtype from `float` to `np.floating` is deprecated. In future, it will be treated as `np.float64 == np.dtype(float).type`.\n",
      "  from ._conv import register_converters as _register_converters\n",
      "Using TensorFlow backend.\n"
     ]
    },
    {
     "name": "stdout",
     "output_type": "stream",
     "text": [
      "336000\n",
      "336000\n",
      "Success\n"
     ]
    }
   ],
   "source": [
    "import io\n",
    "import numpy as np\n",
    "from sklearn.feature_extraction.text import CountVectorizer\n",
    "from sklearn.feature_extraction.text import TfidfTransformer\n",
    "from sklearn.linear_model import LogisticRegression \n",
    "from keras.utils import to_categorical\n",
    "\n",
    "###########################################################################\n",
    "#generate training/test data\n",
    "########################################################################### \n",
    "bragging_file = io.open(\"cleantweets/Happy_clean.txt\",'r',encoding=\"utf-8\") \n",
    "bitching_file = io.open(\"cleantweets/FML_clean.txt\",'r',encoding=\"utf-8\") \n",
    "neither_file = io.open(\"cleantweets/Neither_clean.txt\",'r',encoding=\"utf-8\") \n",
    "\n",
    "training_samples = 30000\n",
    "bragging_tweets = []\n",
    "bitching_tweets = []\n",
    "neither_tweets = []\n",
    "\n",
    "for line in bragging_file:\n",
    "    bragging_tweets.append(line.strip(\"\\n\"))\n",
    "for line in bitching_file:\n",
    "    bitching_tweets.append(line.strip(\"\\n\"))\n",
    "for line in neither_file:\n",
    "    neither_tweets.append(line.strip(\"\\n\"))\n",
    "\n",
    "np.random.seed(42)\n",
    "bragging_tweets = np.array(bragging_tweets)\n",
    "bitching_tweets = np.array(bitching_tweets)\n",
    "neither_tweets = np.array(neither_tweets)\n",
    "np.random.shuffle(bragging_tweets)\n",
    "np.random.shuffle(bitching_tweets)\n",
    "np.random.shuffle(neither_tweets)\n",
    "\n",
    "bi_data = []\n",
    "br_data = []\n",
    "for i in range(240000):\n",
    "    bi_data.append([bitching_tweets[i],1])\n",
    "    br_data.append([bragging_tweets[i],1])\n",
    "    \n",
    "for i in range(240000):\n",
    "    bi_data.append([neither_tweets[i],0])\n",
    "    br_data.append([neither_tweets[i],0])\n",
    "    \n",
    "\n",
    "\n",
    "np.random.shuffle(bi_data)\n",
    "np.random.shuffle(br_data)\n",
    "\n",
    "bi_tweets_train = np.array(bi_data[:336000])\n",
    "bi_tweets_test = np.array(bi_data[336000:480000])\n",
    "\n",
    "br_tweets_train = np.array(br_data[:336000])\n",
    "br_tweets_test = np.array(br_data[336000:480000])\n",
    "\n",
    "bi_X_train = bi_tweets_train[:,0]\n",
    "bi_Y_train = to_categorical(bi_tweets_train[:,1])\n",
    "bi_X_test = bi_tweets_test[:,0]\n",
    "bi_Y_test = to_categorical(bi_tweets_test[:,1])\n",
    "\n",
    "br_X_train = br_tweets_train[:,0]\n",
    "br_Y_train = to_categorical(br_tweets_train[:,1])\n",
    "br_X_test = br_tweets_test[:,0]\n",
    "br_Y_test = to_categorical(br_tweets_test[:,1])\n",
    "\n",
    "print(len(bi_X_train))\n",
    "print(len(bi_Y_train))\n",
    "\n",
    "print(\"Success\")"
   ]
  },
  {
   "cell_type": "code",
   "execution_count": 2,
   "metadata": {},
   "outputs": [
    {
     "name": "stdout",
     "output_type": "stream",
     "text": [
      "Found 337459 unique tokens.\n"
     ]
    }
   ],
   "source": [
    "from keras.preprocessing.text import Tokenizer\n",
    "from keras.preprocessing.sequence import pad_sequences\n",
    "import numpy as np\n",
    "\n",
    "maxlen = 50\n",
    "training_samples = 200000\n",
    "max_words = 10000\n",
    "tokenizer = Tokenizer(num_words = max_words)\n",
    "tokenizer.fit_on_texts(bi_X_train)\n",
    "sequences = tokenizer.texts_to_sequences(bi_X_train)\n",
    "word_index = tokenizer.word_index\n",
    "print ('Found %s unique tokens.' % len(word_index))"
   ]
  },
  {
   "cell_type": "code",
   "execution_count": 3,
   "metadata": {},
   "outputs": [
    {
     "name": "stdout",
     "output_type": "stream",
     "text": [
      "shape of the data tensor: (336000, 50)\n",
      "shape of the label tensor:  (336000, 2)\n"
     ]
    }
   ],
   "source": [
    "data = pad_sequences(sequences, maxlen = maxlen)\n",
    "labels = np.asarray(bi_Y_train)\n",
    "print (\"shape of the data tensor:\", data.shape)\n",
    "print (\"shape of the label tensor: \", labels.shape)"
   ]
  },
  {
   "cell_type": "code",
   "execution_count": 4,
   "metadata": {},
   "outputs": [
    {
     "name": "stdout",
     "output_type": "stream",
     "text": [
      "Found 1193514 word vectors.\n"
     ]
    }
   ],
   "source": [
    "# splits data into a training set and a validation set\n",
    "# indices = np.arange(data.shape[0])\n",
    "# np.random.shuffle(indices)\n",
    "# data = data[indices]\n",
    "# labels = labels[indices]\n",
    "import os\n",
    "\n",
    "bi_x_train = data[:]\n",
    "bi_y_train = labels[:]\n",
    "# x_val = data[training_samples:]\n",
    "# y_val = labels[training_samples:]\n",
    "\n",
    "glove_dir = '/Users/aylme/workspace/CS175/glove.twitter.27B'\n",
    "embeddings_index = {}\n",
    "#your maxlen and you .txt files must correspond\n",
    "f = open(os.path.join(glove_dir, 'glove.twitter.27B.50d.txt'), encoding=\"utf8\")\n",
    "for line in f:\n",
    "    values = line.split()\n",
    "    word = values[0]\n",
    "    coefs=np.asarray(values[1:], dtype='float32')\n",
    "    embeddings_index[word] = coefs\n",
    "f.close()\n",
    "print('Found %s word vectors.'%len(embeddings_index))"
   ]
  },
  {
   "cell_type": "code",
   "execution_count": 5,
   "metadata": {
    "collapsed": true
   },
   "outputs": [],
   "source": [
    "embedding_dim = maxlen\n",
    "embedding_matrix = np.zeros((max_words, embedding_dim))\n",
    "for word, i in word_index.items():\n",
    "    if (i < max_words):\n",
    "        embedding_vector= embeddings_index.get(word)\n",
    "        if (embedding_vector is not None):\n",
    "            embedding_matrix[i] = embedding_vector\n",
    "            "
   ]
  },
  {
   "cell_type": "code",
   "execution_count": 6,
   "metadata": {},
   "outputs": [
    {
     "name": "stdout",
     "output_type": "stream",
     "text": [
      "_________________________________________________________________\n",
      "Layer (type)                 Output Shape              Param #   \n",
      "=================================================================\n",
      "embedding_1 (Embedding)      (None, 50, 50)            500000    \n",
      "_________________________________________________________________\n",
      "flatten_1 (Flatten)          (None, 2500)              0         \n",
      "_________________________________________________________________\n",
      "dense_1 (Dense)              (None, 32)                80032     \n",
      "_________________________________________________________________\n",
      "dense_2 (Dense)              (None, 2)                 66        \n",
      "=================================================================\n",
      "Total params: 580,098\n",
      "Trainable params: 580,098\n",
      "Non-trainable params: 0\n",
      "_________________________________________________________________\n"
     ]
    }
   ],
   "source": [
    "from keras.models import Sequential\n",
    "from keras.layers import Embedding, Flatten, Dense\n",
    "\n",
    "bi_model = Sequential()\n",
    "bi_model.add(Embedding(max_words, embedding_dim, input_length = maxlen))\n",
    "bi_model.add(Flatten())\n",
    "bi_model.add(Dense(32, activation = 'relu'))\n",
    "bi_model.add(Dense(2, activation = 'softmax'))\n",
    "bi_model.summary()"
   ]
  },
  {
   "cell_type": "code",
   "execution_count": 7,
   "metadata": {
    "collapsed": true
   },
   "outputs": [],
   "source": [
    "#bi_model.layers[0].set_weights([embedding_matrix])\n",
    "#bi_model.layers[0].trainable = False"
   ]
  },
  {
   "cell_type": "code",
   "execution_count": 8,
   "metadata": {},
   "outputs": [
    {
     "name": "stdout",
     "output_type": "stream",
     "text": [
      "Train on 302400 samples, validate on 33600 samples\n",
      "Epoch 1/3\n",
      "302400/302400 [==============================] - 123s 406us/step - loss: 0.1993 - acc: 0.9159 - val_loss: 0.1321 - val_acc: 0.9517\n",
      "Epoch 2/3\n",
      "302400/302400 [==============================] - 119s 394us/step - loss: 0.1113 - acc: 0.9595 - val_loss: 0.1088 - val_acc: 0.9602\n",
      "Epoch 3/3\n",
      "302400/302400 [==============================] - 121s 400us/step - loss: 0.0982 - acc: 0.9642 - val_loss: 0.1042 - val_acc: 0.9621\n"
     ]
    }
   ],
   "source": [
    "import keras.optimizers\n",
    "sgd = keras.optimizers.SGD(lr=0.0001*400)\n",
    "bi_model.compile(optimizer = sgd,\n",
    "             loss = 'categorical_crossentropy',\n",
    "             metrics = ['acc'])\n",
    "\n",
    "bi_history = bi_model.fit(bi_x_train, bi_y_train, epochs = 3, batch_size= 32, validation_split = 0.1 )\n",
    "bi_model.save_weights('bi_pre-trained_glove_twitter_model.h5')"
   ]
  },
  {
   "cell_type": "code",
   "execution_count": 9,
   "metadata": {},
   "outputs": [
    {
     "data": {
      "image/png": "[encoded data removed]",
      "text/plain": [
       "<matplotlib.figure.Figure at 0x23252fd6908>"
      ]
     },
     "metadata": {},
     "output_type": "display_data"
    },
    {
     "data": {
      "image/png": "[encoded data removed]",
      "text/plain": [
       "<matplotlib.figure.Figure at 0x232c4a9f6d8>"
      ]
     },
     "metadata": {},
     "output_type": "display_data"
    }
   ],
   "source": [
    "import matplotlib.pyplot as plt\n",
    "acc = bi_history.history['acc']\n",
    "val_acc = bi_history.history['val_acc']\n",
    "loss = bi_history.history['loss']\n",
    "val_loss = bi_history.history['val_loss']\n",
    "\n",
    "epochs = range(1, len(acc) +1)\n",
    "\n",
    "plt.plot(epochs, acc, 'bo', label = 'Training acc')\n",
    "plt.plot(epochs, val_acc, 'b', label = 'Validation acc')\n",
    "plt.title('Training and validation accuracy')\n",
    "plt.legend()\n",
    "\n",
    "plt.figure()\n",
    "plt.plot(epochs, loss, 'bo', label = 'Training loss')\n",
    "plt.plot(epochs, val_loss, 'b', label = 'Validation loss')\n",
    "plt.title('Training and validation loss')\n",
    "plt.legend()\n",
    "\n",
    "plt.show()"
   ]
  },
  {
   "cell_type": "code",
   "execution_count": 10,
   "metadata": {},
   "outputs": [
    {
     "name": "stdout",
     "output_type": "stream",
     "text": [
      "144000/144000 [==============================] - 12s 80us/step\n"
     ]
    },
    {
     "data": {
      "text/plain": [
       "[0.10447153980222841, 0.961625]"
      ]
     },
     "execution_count": 10,
     "metadata": {},
     "output_type": "execute_result"
    }
   ],
   "source": [
    "## These will be results on the test\n",
    "sequences = tokenizer.texts_to_sequences(bi_X_test)\n",
    "bi_x_test = pad_sequences(sequences, maxlen = maxlen)\n",
    "bi_y_test = np.asarray(bi_Y_test)\n",
    "bi_model.load_weights('bi_pre-trained_glove_twitter_model.h5')\n",
    "bi_model.evaluate(bi_x_test, bi_y_test)"
   ]
  },
  {
   "cell_type": "code",
   "execution_count": 11,
   "metadata": {
    "collapsed": true
   },
   "outputs": [],
   "source": [
    "##################################################################################\n",
    "#BRAGGING MODEL\n",
    "##################################################################################"
   ]
  },
  {
   "cell_type": "code",
   "execution_count": 12,
   "metadata": {},
   "outputs": [
    {
     "name": "stdout",
     "output_type": "stream",
     "text": [
      "Found 386728 unique tokens.\n"
     ]
    }
   ],
   "source": [
    "tokenizer = Tokenizer(num_words = max_words)\n",
    "tokenizer.fit_on_texts(br_X_train)\n",
    "sequences = tokenizer.texts_to_sequences(br_X_train)\n",
    "word_index = tokenizer.word_index\n",
    "print ('Found %s unique tokens.' % len(word_index))"
   ]
  },
  {
   "cell_type": "code",
   "execution_count": 13,
   "metadata": {},
   "outputs": [
    {
     "name": "stdout",
     "output_type": "stream",
     "text": [
      "shape of the data tensor: (336000, 50)\n",
      "shape of the label tensor:  (336000, 2)\n"
     ]
    }
   ],
   "source": [
    "data = pad_sequences(sequences, maxlen = maxlen)\n",
    "labels = np.asarray(br_Y_train)\n",
    "print (\"shape of the data tensor:\", data.shape)\n",
    "print (\"shape of the label tensor: \", labels.shape)"
   ]
  },
  {
   "cell_type": "code",
   "execution_count": 14,
   "metadata": {},
   "outputs": [
    {
     "name": "stdout",
     "output_type": "stream",
     "text": [
      "Found 1193514 word vectors.\n"
     ]
    }
   ],
   "source": [
    "br_x_train = data[:]\n",
    "br_y_train = labels[:]\n",
    "# x_val = data[training_samples:]\n",
    "# y_val = labels[training_samples:]\n",
    "\n",
    "glove_dir = '/Users/aylme/workspace/CS175/glove.twitter.27B'\n",
    "embeddings_index = {}\n",
    "#your maxlen and you .txt files must correspond\n",
    "f = open(os.path.join(glove_dir, 'glove.twitter.27B.50d.txt'), encoding=\"utf8\")\n",
    "for line in f:\n",
    "    values = line.split()\n",
    "    word = values[0]\n",
    "    coefs=np.asarray(values[1:], dtype='float32')\n",
    "    embeddings_index[word] = coefs\n",
    "f.close()\n",
    "print('Found %s word vectors.'%len(embeddings_index))"
   ]
  },
  {
   "cell_type": "code",
   "execution_count": 15,
   "metadata": {
    "collapsed": true
   },
   "outputs": [],
   "source": [
    "embedding_dim = maxlen\n",
    "embedding_matrix = np.zeros((max_words, embedding_dim))\n",
    "for word, i in word_index.items():\n",
    "    if (i < max_words):\n",
    "        embedding_vector= embeddings_index.get(word)\n",
    "        if (embedding_vector is not None):\n",
    "            embedding_matrix[i] = embedding_vector"
   ]
  },
  {
   "cell_type": "code",
   "execution_count": 16,
   "metadata": {},
   "outputs": [
    {
     "name": "stdout",
     "output_type": "stream",
     "text": [
      "_________________________________________________________________\n",
      "Layer (type)                 Output Shape              Param #   \n",
      "=================================================================\n",
      "embedding_2 (Embedding)      (None, 50, 50)            500000    \n",
      "_________________________________________________________________\n",
      "flatten_2 (Flatten)          (None, 2500)              0         \n",
      "_________________________________________________________________\n",
      "dense_3 (Dense)              (None, 32)                80032     \n",
      "_________________________________________________________________\n",
      "dense_4 (Dense)              (None, 2)                 66        \n",
      "=================================================================\n",
      "Total params: 580,098\n",
      "Trainable params: 580,098\n",
      "Non-trainable params: 0\n",
      "_________________________________________________________________\n"
     ]
    }
   ],
   "source": [
    "br_model = Sequential()\n",
    "br_model.add(Embedding(max_words, embedding_dim, input_length = maxlen))\n",
    "br_model.add(Flatten())\n",
    "br_model.add(Dense(32, activation = 'relu'))\n",
    "br_model.add(Dense(2, activation = 'softmax'))\n",
    "br_model.summary()"
   ]
  },
  {
   "cell_type": "code",
   "execution_count": 17,
   "metadata": {
    "collapsed": true
   },
   "outputs": [],
   "source": [
    "#br_model.layers[0].set_weights([embedding_matrix])\n",
    "#br_model.layers[0].trainable = False"
   ]
  },
  {
   "cell_type": "code",
   "execution_count": 18,
   "metadata": {},
   "outputs": [
    {
     "name": "stdout",
     "output_type": "stream",
     "text": [
      "Train on 302400 samples, validate on 33600 samples\n",
      "Epoch 1/3\n",
      "302400/302400 [==============================] - 125s 413us/step - loss: 0.2454 - acc: 0.8895 - val_loss: 0.1688 - val_acc: 0.9328\n",
      "Epoch 2/3\n",
      "302400/302400 [==============================] - 120s 396us/step - loss: 0.1619 - acc: 0.9349 - val_loss: 0.1628 - val_acc: 0.9340\n",
      "Epoch 3/3\n",
      "302400/302400 [==============================] - 120s 395us/step - loss: 0.1473 - acc: 0.9411 - val_loss: 0.1601 - val_acc: 0.9363\n"
     ]
    }
   ],
   "source": [
    "br_model.compile(optimizer = sgd,\n",
    "             loss = 'categorical_crossentropy',\n",
    "             metrics = ['acc'])\n",
    "\n",
    "br_history = br_model.fit(br_x_train, br_y_train, epochs = 3, batch_size= 32, validation_split = 0.1 )\n",
    "br_model.save_weights('br_pre-trained_glove_twitter_model.h5')"
   ]
  },
  {
   "cell_type": "code",
   "execution_count": 19,
   "metadata": {},
   "outputs": [
    {
     "data": {
      "image/png": "[encoded data removed]",
      "text/plain": [
       "<matplotlib.figure.Figure at 0x232465bf748>"
      ]
     },
     "metadata": {},
     "output_type": "display_data"
    },
    {
     "data": {
      "image/png": "[encoded data removed]",
      "text/plain": [
       "<matplotlib.figure.Figure at 0x232469b8630>"
      ]
     },
     "metadata": {},
     "output_type": "display_data"
    }
   ],
   "source": [
    "acc = br_history.history['acc']\n",
    "val_acc = br_history.history['val_acc']\n",
    "loss = br_history.history['loss']\n",
    "val_loss = br_history.history['val_loss']\n",
    "\n",
    "epochs = range(1, len(acc) +1)\n",
    "\n",
    "plt.plot(epochs, acc, 'bo', label = 'Training acc')\n",
    "plt.plot(epochs, val_acc, 'b', label = 'Validation acc')\n",
    "plt.title('Training and validation accuracy')\n",
    "plt.legend()\n",
    "\n",
    "plt.figure()\n",
    "plt.plot(epochs, loss, 'bo', label = 'Training loss')\n",
    "plt.plot(epochs, val_loss, 'b', label = 'Validation loss')\n",
    "plt.title('Training and validation loss')\n",
    "plt.legend()\n",
    "\n",
    "plt.show()"
   ]
  },
  {
   "cell_type": "code",
   "execution_count": 20,
   "metadata": {},
   "outputs": [
    {
     "name": "stdout",
     "output_type": "stream",
     "text": [
      "144000/144000 [==============================] - 16s 113us/step\n"
     ]
    },
    {
     "data": {
      "text/plain": [
       "[0.1598797175321314, 0.9346944444444445]"
      ]
     },
     "execution_count": 20,
     "metadata": {},
     "output_type": "execute_result"
    }
   ],
   "source": [
    "sequences = tokenizer.texts_to_sequences(br_X_test)\n",
    "br_x_test = pad_sequences(sequences, maxlen = maxlen)\n",
    "br_y_test = np.asarray(br_Y_test)\n",
    "br_model.load_weights('br_pre-trained_glove_twitter_model.h5')\n",
    "br_model.evaluate(br_x_test, br_y_test)"
   ]
  },
  {
   "cell_type": "code",
   "execution_count": 32,
   "metadata": {
    "collapsed": true
   },
   "outputs": [],
   "source": [
    "def predict(bi_pred, br_pred):\n",
    "    predictions = []\n",
    "    for i in range(len(bi_pred)):\n",
    "        if bi_pred[i][0]>=0.5 and br_pred[i][0]>=0.5:\n",
    "            if abs(bi_pred[i][0]-br_pred[i][0])<0.1:\n",
    "                predictions.append(\"BOTH\")\n",
    "            elif bi_pred[i][0]>br_pred[i][0]:\n",
    "                predictions.append(\"BITCHING\")\n",
    "            elif bi_pred[i][0]<br_pred[i][0]:\n",
    "                predictions.append(\"BRAGGING\")\n",
    "        elif bi_pred[i][0]>=0.5 and br_pred[i][0]<=0.5:\n",
    "            predictions.append(\"BITCHING\")\n",
    "        elif bi_pred[i][0]<=0.5 and br_pred[i][0]>=0.5:\n",
    "            predictions.append(\"BRAGGING\")\n",
    "        elif bi_pred[i][0]<=0.5 and br_pred[i][0]<=0.5:\n",
    "            predictions.append(\"NEITHER\")   \n",
    "    return predictions"
   ]
  },
  {
   "cell_type": "code",
   "execution_count": 33,
   "metadata": {},
   "outputs": [
    {
     "name": "stdout",
     "output_type": "stream",
     "text": [
      "(BITCHING)  The decision on Sergeant Bergdahl is a complete and total disgrace to our Country and to our Military.\n",
      "(BITCHING)  Does anybody really believe that a reporter, who nobody ever heard of, went to his mailbox and found my tax returns? @NBCNews FAKE NEWS!\n",
      "(BRAGGING)  After Turkey call I will be heading over to Trump National Golf Club, Jupiter, to play golf (quickly) with Tiger Woods and Dustin Johnson. Then back to Mar-a-Lago for talks on bringing even more jobs and companies back to the USA!\n",
      "(BOTH)  “The President has accomplished some absolutely historic things during this past year.” Thank you Charlie Kirk of Turning Points USA. Sadly, the Fake Mainstream Media will NEVER talk about our accomplishments in their end of year reviews. We are compiling a long & beautiful list.\n"
     ]
    }
   ],
   "source": [
    "test_tweets = [\"The decision on Sergeant Bergdahl is a complete and total disgrace to our Country and to our Military.\",\n",
    "                \"Does anybody really believe that a reporter, who nobody ever heard of, went to his mailbox and found my tax returns? @NBCNews FAKE NEWS!\",\n",
    "                \"After Turkey call I will be heading over to Trump National Golf Club, Jupiter, to play golf (quickly) with Tiger Woods and Dustin Johnson. Then back to Mar-a-Lago for talks on bringing even more jobs and companies back to the USA!\",\n",
    "                \"“The President has accomplished some absolutely historic things during this past year.” Thank you Charlie Kirk of Turning Points USA. Sadly, the Fake Mainstream Media will NEVER talk about our accomplishments in their end of year reviews. We are compiling a long & beautiful list.\"]\n",
    "sequences = tokenizer.texts_to_sequences(test_tweets)\n",
    "x_test = pad_sequences(sequences, maxlen = maxlen)\n",
    "br_model.load_weights('br_pre-trained_glove_twitter_model.h5')\n",
    "br_pred=br_model.predict(x_test)\n",
    "bi_model.load_weights('bi_pre-trained_glove_twitter_model.h5')\n",
    "bi_pred=bi_model.predict(x_test)\n",
    "\n",
    "predictions=predict(bi_pred,br_pred)\n",
    "for i in range(len(test_tweets)):\n",
    "    print(\"(\"+predictions[i]+\")  \"+test_tweets[i])\n"
   ]
  }
 ],
 "metadata": {
  "kernelspec": {
   "display_name": "Python 3",
   "language": "python",
   "name": "python3"
  },
  "language_info": {
   "codemirror_mode": {
    "name": "ipython",
    "version": 3
   },
   "file_extension": ".py",
   "mimetype": "text/x-python",
   "name": "python",
   "nbconvert_exporter": "python",
   "pygments_lexer": "ipython3",
   "version": "3.6.3"
  }
 },
 "nbformat": 4,
 "nbformat_minor": 2
}
